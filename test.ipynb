{
 "cells": [
  {
   "cell_type": "code",
   "execution_count": 1,
   "metadata": {},
   "outputs": [
    {
     "data": {
      "text/plain": [
       "['computedelements_chunk8.csv',\n",
       " 'computedelements_chunk9.csv',\n",
       " 'computedelements_chunk10.csv',\n",
       " 'computedelements_chunk2.csv',\n",
       " 'computedelements_chunk3.csv',\n",
       " 'computedelements_chunk1.csv',\n",
       " 'computedelements_chunk4.csv',\n",
       " 'computedelements_chunk5.csv',\n",
       " 'computedelements_chunk7.csv',\n",
       " 'computedelements_chunk6.csv']"
      ]
     },
     "execution_count": 1,
     "metadata": {},
     "output_type": "execute_result"
    }
   ],
   "source": [
    "import os\n",
    "chunkfolder = '/Users/patrickburke/Library/CloudStorage/OneDrive-EmoryUniversity/ECON496RW/cleaned_big/computedelements_chunks/'\n",
    "os.listdir(chunkfolder)"
   ]
  },
  {
   "cell_type": "code",
   "execution_count": 4,
   "metadata": {},
   "outputs": [
    {
     "name": "stdout",
     "output_type": "stream",
     "text": [
      "computedelements_chunk8.csv\n",
      "<class 'str'>\n",
      "computedelements_chunk9.csv\n",
      "<class 'str'>\n",
      "computedelements_chunk10.csv\n",
      "<class 'str'>\n",
      "computedelements_chunk2.csv\n",
      "<class 'str'>\n",
      "computedelements_chunk3.csv\n",
      "<class 'str'>\n",
      "computedelements_chunk1.csv\n",
      "<class 'str'>\n",
      "computedelements_chunk4.csv\n",
      "<class 'str'>\n",
      "computedelements_chunk5.csv\n",
      "<class 'str'>\n",
      "computedelements_chunk7.csv\n",
      "<class 'str'>\n",
      "computedelements_chunk6.csv\n",
      "<class 'str'>\n"
     ]
    }
   ],
   "source": [
    "for chunk in os.listdir(chunkfolder):\n",
    "    print(chunk)\n",
    "    print(type(chunk))"
   ]
  },
  {
   "cell_type": "code",
   "execution_count": null,
   "metadata": {},
   "outputs": [],
   "source": []
  }
 ],
 "metadata": {
  "kernelspec": {
   "display_name": "Python 3.9.13 ('emsData')",
   "language": "python",
   "name": "python3"
  },
  "language_info": {
   "codemirror_mode": {
    "name": "ipython",
    "version": 3
   },
   "file_extension": ".py",
   "mimetype": "text/x-python",
   "name": "python",
   "nbconvert_exporter": "python",
   "pygments_lexer": "ipython3",
   "version": "3.9.13"
  },
  "orig_nbformat": 4,
  "vscode": {
   "interpreter": {
    "hash": "e73fd14faab1d3a910992afd86c0d2e0faf6164497d557d85f7ad88fc301c927"
   }
  }
 },
 "nbformat": 4,
 "nbformat_minor": 2
}
