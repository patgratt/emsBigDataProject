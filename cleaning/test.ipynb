{
 "cells": [
  {
   "cell_type": "code",
   "execution_count": 8,
   "metadata": {},
   "outputs": [],
   "source": [
    "import pandas as pd"
   ]
  },
  {
   "cell_type": "code",
   "execution_count": 9,
   "metadata": {},
   "outputs": [],
   "source": [
    "chunk_size=50000\n",
    "batch_no=1"
   ]
  },
  {
   "cell_type": "code",
   "execution_count": 10,
   "metadata": {},
   "outputs": [
    {
     "ename": "ParserError",
     "evalue": "Error tokenizing data. C error: Calling read(nbytes) on source failed. Try engine='python'.",
     "output_type": "error",
     "traceback": [
      "\u001b[0;31m---------------------------------------------------------------------------\u001b[0m",
      "\u001b[0;31mParserError\u001b[0m                               Traceback (most recent call last)",
      "\u001b[1;32m/Users/patrickburke/repos/emsData/cleaning/test.ipynb Cell 3\u001b[0m in \u001b[0;36m<cell line: 1>\u001b[0;34m()\u001b[0m\n\u001b[0;32m----> <a href='vscode-notebook-cell:/Users/patrickburke/repos/emsData/cleaning/test.ipynb#W5sZmlsZQ%3D%3D?line=0'>1</a>\u001b[0m \u001b[39mfor\u001b[39;00m chunk \u001b[39min\u001b[39;00m pd\u001b[39m.\u001b[39mread_csv(\u001b[39m'\u001b[39m\u001b[39m/Users/patrickburke/Library/CloudStorage/OneDrive-EmoryUniversity/ECON496RW/decompressed/FACTPCRVITAL.txt\u001b[39m\u001b[39m'\u001b[39m,sep\u001b[39m=\u001b[39m\u001b[39m\"\u001b[39m\u001b[39m|\u001b[39m\u001b[39m\"\u001b[39m,chunksize\u001b[39m=\u001b[39mchunk_size):\n\u001b[1;32m      <a href='vscode-notebook-cell:/Users/patrickburke/repos/emsData/cleaning/test.ipynb#W5sZmlsZQ%3D%3D?line=1'>2</a>\u001b[0m     chunk\u001b[39m.\u001b[39mto_csv(\u001b[39m'\u001b[39m\u001b[39mchunk\u001b[39m\u001b[39m'\u001b[39m\u001b[39m+\u001b[39m\u001b[39mstr\u001b[39m(batch_no)\u001b[39m+\u001b[39m\u001b[39m'\u001b[39m\u001b[39m.csv\u001b[39m\u001b[39m'\u001b[39m,index\u001b[39m=\u001b[39m\u001b[39mFalse\u001b[39;00m)\n",
      "File \u001b[0;32m~/opt/miniconda3/envs/emsData/lib/python3.9/site-packages/pandas/io/parsers/readers.py:1186\u001b[0m, in \u001b[0;36mTextFileReader.__next__\u001b[0;34m(self)\u001b[0m\n\u001b[1;32m   1184\u001b[0m \u001b[39mdef\u001b[39;00m \u001b[39m__next__\u001b[39m(\u001b[39mself\u001b[39m):\n\u001b[1;32m   1185\u001b[0m     \u001b[39mtry\u001b[39;00m:\n\u001b[0;32m-> 1186\u001b[0m         \u001b[39mreturn\u001b[39;00m \u001b[39mself\u001b[39;49m\u001b[39m.\u001b[39;49mget_chunk()\n\u001b[1;32m   1187\u001b[0m     \u001b[39mexcept\u001b[39;00m \u001b[39mStopIteration\u001b[39;00m:\n\u001b[1;32m   1188\u001b[0m         \u001b[39mself\u001b[39m\u001b[39m.\u001b[39mclose()\n",
      "File \u001b[0;32m~/opt/miniconda3/envs/emsData/lib/python3.9/site-packages/pandas/io/parsers/readers.py:1283\u001b[0m, in \u001b[0;36mTextFileReader.get_chunk\u001b[0;34m(self, size)\u001b[0m\n\u001b[1;32m   1281\u001b[0m         \u001b[39mraise\u001b[39;00m \u001b[39mStopIteration\u001b[39;00m\n\u001b[1;32m   1282\u001b[0m     size \u001b[39m=\u001b[39m \u001b[39mmin\u001b[39m(size, \u001b[39mself\u001b[39m\u001b[39m.\u001b[39mnrows \u001b[39m-\u001b[39m \u001b[39mself\u001b[39m\u001b[39m.\u001b[39m_currow)\n\u001b[0;32m-> 1283\u001b[0m \u001b[39mreturn\u001b[39;00m \u001b[39mself\u001b[39;49m\u001b[39m.\u001b[39;49mread(nrows\u001b[39m=\u001b[39;49msize)\n",
      "File \u001b[0;32m~/opt/miniconda3/envs/emsData/lib/python3.9/site-packages/pandas/io/parsers/readers.py:1253\u001b[0m, in \u001b[0;36mTextFileReader.read\u001b[0;34m(self, nrows)\u001b[0m\n\u001b[1;32m   1251\u001b[0m nrows \u001b[39m=\u001b[39m validate_integer(\u001b[39m\"\u001b[39m\u001b[39mnrows\u001b[39m\u001b[39m\"\u001b[39m, nrows)\n\u001b[1;32m   1252\u001b[0m \u001b[39mtry\u001b[39;00m:\n\u001b[0;32m-> 1253\u001b[0m     index, columns, col_dict \u001b[39m=\u001b[39m \u001b[39mself\u001b[39;49m\u001b[39m.\u001b[39;49m_engine\u001b[39m.\u001b[39;49mread(nrows)\n\u001b[1;32m   1254\u001b[0m \u001b[39mexcept\u001b[39;00m \u001b[39mException\u001b[39;00m:\n\u001b[1;32m   1255\u001b[0m     \u001b[39mself\u001b[39m\u001b[39m.\u001b[39mclose()\n",
      "File \u001b[0;32m~/opt/miniconda3/envs/emsData/lib/python3.9/site-packages/pandas/io/parsers/c_parser_wrapper.py:225\u001b[0m, in \u001b[0;36mCParserWrapper.read\u001b[0;34m(self, nrows)\u001b[0m\n\u001b[1;32m    223\u001b[0m \u001b[39mtry\u001b[39;00m:\n\u001b[1;32m    224\u001b[0m     \u001b[39mif\u001b[39;00m \u001b[39mself\u001b[39m\u001b[39m.\u001b[39mlow_memory:\n\u001b[0;32m--> 225\u001b[0m         chunks \u001b[39m=\u001b[39m \u001b[39mself\u001b[39;49m\u001b[39m.\u001b[39;49m_reader\u001b[39m.\u001b[39;49mread_low_memory(nrows)\n\u001b[1;32m    226\u001b[0m         \u001b[39m# destructive to chunks\u001b[39;00m\n\u001b[1;32m    227\u001b[0m         data \u001b[39m=\u001b[39m _concatenate_chunks(chunks)\n",
      "File \u001b[0;32m~/opt/miniconda3/envs/emsData/lib/python3.9/site-packages/pandas/_libs/parsers.pyx:817\u001b[0m, in \u001b[0;36mpandas._libs.parsers.TextReader.read_low_memory\u001b[0;34m()\u001b[0m\n",
      "File \u001b[0;32m~/opt/miniconda3/envs/emsData/lib/python3.9/site-packages/pandas/_libs/parsers.pyx:861\u001b[0m, in \u001b[0;36mpandas._libs.parsers.TextReader._read_rows\u001b[0;34m()\u001b[0m\n",
      "File \u001b[0;32m~/opt/miniconda3/envs/emsData/lib/python3.9/site-packages/pandas/_libs/parsers.pyx:847\u001b[0m, in \u001b[0;36mpandas._libs.parsers.TextReader._tokenize_rows\u001b[0;34m()\u001b[0m\n",
      "File \u001b[0;32m~/opt/miniconda3/envs/emsData/lib/python3.9/site-packages/pandas/_libs/parsers.pyx:1960\u001b[0m, in \u001b[0;36mpandas._libs.parsers.raise_parser_error\u001b[0;34m()\u001b[0m\n",
      "\u001b[0;31mParserError\u001b[0m: Error tokenizing data. C error: Calling read(nbytes) on source failed. Try engine='python'."
     ]
    }
   ],
   "source": [
    "for chunk in pd.read_csv('/Users/patrickburke/Library/CloudStorage/OneDrive-EmoryUniversity/ECON496RW/decompressed/FACTPCRVITAL.txt',sep=\"|\",chunksize=chunk_size):\n",
    "    chunk.to_csv('chunk'+str(batch_no)+'.csv',index=False)\n"
   ]
  },
  {
   "cell_type": "code",
   "execution_count": null,
   "metadata": {},
   "outputs": [],
   "source": []
  },
  {
   "cell_type": "code",
   "execution_count": 5,
   "metadata": {},
   "outputs": [
    {
     "data": {
      "text/html": [
       "<div>\n",
       "<style scoped>\n",
       "    .dataframe tbody tr th:only-of-type {\n",
       "        vertical-align: middle;\n",
       "    }\n",
       "\n",
       "    .dataframe tbody tr th {\n",
       "        vertical-align: top;\n",
       "    }\n",
       "\n",
       "    .dataframe thead th {\n",
       "        text-align: right;\n",
       "    }\n",
       "</style>\n",
       "<table border=\"1\" class=\"dataframe\">\n",
       "  <thead>\n",
       "    <tr style=\"text-align: right;\">\n",
       "      <th></th>\n",
       "      <th>'PcrVitalKey'~</th>\n",
       "      <th>~'PcrKey'~</th>\n",
       "      <th>~'eVitals_06'~</th>\n",
       "      <th>~'eVitals_10'~</th>\n",
       "      <th>~'eVitals_12'~</th>\n",
       "      <th>~'eVitals_14'~</th>\n",
       "      <th>~'eVitals_16'~</th>\n",
       "      <th>~'eVitals_18'~</th>\n",
       "      <th>~'eVitals_27'~</th>\n",
       "      <th>~'eVitals_02'~</th>\n",
       "      <th>~'eVitals_04'~</th>\n",
       "      <th>~'eVitals_08'~</th>\n",
       "      <th>~'eVitals_26'~</th>\n",
       "      <th>~'eVitals_29'~</th>\n",
       "      <th>~'eVitals_30'~</th>\n",
       "      <th>~'eVitals_31'~</th>\n",
       "      <th>~'eVitals_19'~</th>\n",
       "      <th>~'eVitals_20'~</th>\n",
       "      <th>~'eVitals_21'~</th>\n",
       "      <th>~'eVitals_01'</th>\n",
       "    </tr>\n",
       "  </thead>\n",
       "  <tbody>\n",
       "    <tr>\n",
       "      <th>0</th>\n",
       "      <td>7264548 ~</td>\n",
       "      <td>~1472192 ~</td>\n",
       "      <td>~7701003 ~</td>\n",
       "      <td>~7701003 ~</td>\n",
       "      <td>~7701003 ~</td>\n",
       "      <td>~7701003 ~</td>\n",
       "      <td>~7701003 ~</td>\n",
       "      <td>~7701003                  ~</td>\n",
       "      <td>~7701003 ~</td>\n",
       "      <td>~7701003   ~</td>\n",
       "      <td>~7701003   ~</td>\n",
       "      <td>~7701003   ~</td>\n",
       "      <td>~7701003   ~</td>\n",
       "      <td>~7701003   ~</td>\n",
       "      <td>~7701003   ~</td>\n",
       "      <td>~7701003   ~</td>\n",
       "      <td>~7701003   ~</td>\n",
       "      <td>~7701003   ~</td>\n",
       "      <td>~7701003   ~</td>\n",
       "      <td>~Not Recorded</td>\n",
       "    </tr>\n",
       "    <tr>\n",
       "      <th>1</th>\n",
       "      <td>53697005 ~</td>\n",
       "      <td>~13273412 ~</td>\n",
       "      <td>~7701001 ~</td>\n",
       "      <td>~95 ~</td>\n",
       "      <td>~7701001 ~</td>\n",
       "      <td>~16 ~</td>\n",
       "      <td>~7701001 ~</td>\n",
       "      <td>~7701001                  ~</td>\n",
       "      <td>~7701001 ~</td>\n",
       "      <td>~9923001   ~</td>\n",
       "      <td>~7701001   ~</td>\n",
       "      <td>~7701001   ~</td>\n",
       "      <td>~7701001   ~</td>\n",
       "      <td>~7701001   ~</td>\n",
       "      <td>~7701001   ~</td>\n",
       "      <td>~7701003   ~</td>\n",
       "      <td>~7701001   ~</td>\n",
       "      <td>~7701001   ~</td>\n",
       "      <td>~7701001   ~</td>\n",
       "      <td>~  02APR2021:23:50:00</td>\n",
       "    </tr>\n",
       "    <tr>\n",
       "      <th>2</th>\n",
       "      <td>53697008 ~</td>\n",
       "      <td>~13273412 ~</td>\n",
       "      <td>~7701001 ~</td>\n",
       "      <td>~7701001 ~</td>\n",
       "      <td>~7701001 ~</td>\n",
       "      <td>~7701001 ~</td>\n",
       "      <td>~7701001 ~</td>\n",
       "      <td>~102                      ~</td>\n",
       "      <td>~7701001 ~</td>\n",
       "      <td>~9923003   ~</td>\n",
       "      <td>~7701001   ~</td>\n",
       "      <td>~7701001   ~</td>\n",
       "      <td>~7701001   ~</td>\n",
       "      <td>~7701001   ~</td>\n",
       "      <td>~7701001   ~</td>\n",
       "      <td>~7701003   ~</td>\n",
       "      <td>~7701001   ~</td>\n",
       "      <td>~7701001   ~</td>\n",
       "      <td>~7701001   ~</td>\n",
       "      <td>~Not Recorded</td>\n",
       "    </tr>\n",
       "    <tr>\n",
       "      <th>3</th>\n",
       "      <td>53697001 ~</td>\n",
       "      <td>~13273412 ~</td>\n",
       "      <td>~7701001 ~</td>\n",
       "      <td>~7701001 ~</td>\n",
       "      <td>~95 ~</td>\n",
       "      <td>~7701001 ~</td>\n",
       "      <td>~7701001 ~</td>\n",
       "      <td>~7701001                  ~</td>\n",
       "      <td>~7701001 ~</td>\n",
       "      <td>~9923003   ~</td>\n",
       "      <td>~7701001   ~</td>\n",
       "      <td>~7701001   ~</td>\n",
       "      <td>~7701001   ~</td>\n",
       "      <td>~7701001   ~</td>\n",
       "      <td>~7701001   ~</td>\n",
       "      <td>~7701003   ~</td>\n",
       "      <td>~7701001   ~</td>\n",
       "      <td>~7701001   ~</td>\n",
       "      <td>~7701001   ~</td>\n",
       "      <td>~Not Recorded</td>\n",
       "    </tr>\n",
       "    <tr>\n",
       "      <th>4</th>\n",
       "      <td>53697006 ~</td>\n",
       "      <td>~13273412 ~</td>\n",
       "      <td>~7701001 ~</td>\n",
       "      <td>~7701001 ~</td>\n",
       "      <td>~7701001 ~</td>\n",
       "      <td>~7701001 ~</td>\n",
       "      <td>~7701001 ~</td>\n",
       "      <td>~7701001                  ~</td>\n",
       "      <td>~7701001 ~</td>\n",
       "      <td>~9923003   ~</td>\n",
       "      <td>~7701001   ~</td>\n",
       "      <td>~7701001   ~</td>\n",
       "      <td>~7701001   ~</td>\n",
       "      <td>~7701001   ~</td>\n",
       "      <td>~7701001   ~</td>\n",
       "      <td>~7701003   ~</td>\n",
       "      <td>~7701001   ~</td>\n",
       "      <td>~7701001   ~</td>\n",
       "      <td>~7701001   ~</td>\n",
       "      <td>~Not Recorded</td>\n",
       "    </tr>\n",
       "  </tbody>\n",
       "</table>\n",
       "</div>"
      ],
      "text/plain": [
       "  'PcrVitalKey'~   ~'PcrKey'~ ~'eVitals_06'~ ~'eVitals_10'~ ~'eVitals_12'~  \\\n",
       "0      7264548 ~   ~1472192 ~     ~7701003 ~     ~7701003 ~     ~7701003 ~   \n",
       "1     53697005 ~  ~13273412 ~     ~7701001 ~          ~95 ~     ~7701001 ~   \n",
       "2     53697008 ~  ~13273412 ~     ~7701001 ~     ~7701001 ~     ~7701001 ~   \n",
       "3     53697001 ~  ~13273412 ~     ~7701001 ~     ~7701001 ~          ~95 ~   \n",
       "4     53697006 ~  ~13273412 ~     ~7701001 ~     ~7701001 ~     ~7701001 ~   \n",
       "\n",
       "  ~'eVitals_14'~ ~'eVitals_16'~               ~'eVitals_18'~ ~'eVitals_27'~  \\\n",
       "0     ~7701003 ~     ~7701003 ~  ~7701003                  ~     ~7701003 ~   \n",
       "1          ~16 ~     ~7701001 ~  ~7701001                  ~     ~7701001 ~   \n",
       "2     ~7701001 ~     ~7701001 ~  ~102                      ~     ~7701001 ~   \n",
       "3     ~7701001 ~     ~7701001 ~  ~7701001                  ~     ~7701001 ~   \n",
       "4     ~7701001 ~     ~7701001 ~  ~7701001                  ~     ~7701001 ~   \n",
       "\n",
       "  ~'eVitals_02'~ ~'eVitals_04'~ ~'eVitals_08'~ ~'eVitals_26'~ ~'eVitals_29'~  \\\n",
       "0   ~7701003   ~   ~7701003   ~   ~7701003   ~   ~7701003   ~   ~7701003   ~   \n",
       "1   ~9923001   ~   ~7701001   ~   ~7701001   ~   ~7701001   ~   ~7701001   ~   \n",
       "2   ~9923003   ~   ~7701001   ~   ~7701001   ~   ~7701001   ~   ~7701001   ~   \n",
       "3   ~9923003   ~   ~7701001   ~   ~7701001   ~   ~7701001   ~   ~7701001   ~   \n",
       "4   ~9923003   ~   ~7701001   ~   ~7701001   ~   ~7701001   ~   ~7701001   ~   \n",
       "\n",
       "  ~'eVitals_30'~ ~'eVitals_31'~ ~'eVitals_19'~ ~'eVitals_20'~ ~'eVitals_21'~  \\\n",
       "0   ~7701003   ~   ~7701003   ~   ~7701003   ~   ~7701003   ~   ~7701003   ~   \n",
       "1   ~7701001   ~   ~7701003   ~   ~7701001   ~   ~7701001   ~   ~7701001   ~   \n",
       "2   ~7701001   ~   ~7701003   ~   ~7701001   ~   ~7701001   ~   ~7701001   ~   \n",
       "3   ~7701001   ~   ~7701003   ~   ~7701001   ~   ~7701001   ~   ~7701001   ~   \n",
       "4   ~7701001   ~   ~7701003   ~   ~7701001   ~   ~7701001   ~   ~7701001   ~   \n",
       "\n",
       "           ~'eVitals_01'  \n",
       "0  ~Not Recorded          \n",
       "1  ~  02APR2021:23:50:00  \n",
       "2  ~Not Recorded          \n",
       "3  ~Not Recorded          \n",
       "4  ~Not Recorded          "
      ]
     },
     "execution_count": 5,
     "metadata": {},
     "output_type": "execute_result"
    }
   ],
   "source": [
    "df.head()"
   ]
  },
  {
   "cell_type": "code",
   "execution_count": 6,
   "metadata": {},
   "outputs": [
    {
     "data": {
      "text/plain": [
       "17512429"
      ]
     },
     "execution_count": 6,
     "metadata": {},
     "output_type": "execute_result"
    }
   ],
   "source": [
    "len(df.index)"
   ]
  },
  {
   "cell_type": "code",
   "execution_count": null,
   "metadata": {},
   "outputs": [],
   "source": []
  }
 ],
 "metadata": {
  "kernelspec": {
   "display_name": "Python 3.9.13 ('emsData')",
   "language": "python",
   "name": "python3"
  },
  "language_info": {
   "codemirror_mode": {
    "name": "ipython",
    "version": 3
   },
   "file_extension": ".py",
   "mimetype": "text/x-python",
   "name": "python",
   "nbconvert_exporter": "python",
   "pygments_lexer": "ipython3",
   "version": "3.9.13"
  },
  "orig_nbformat": 4,
  "vscode": {
   "interpreter": {
    "hash": "e73fd14faab1d3a910992afd86c0d2e0faf6164497d557d85f7ad88fc301c927"
   }
  }
 },
 "nbformat": 4,
 "nbformat_minor": 2
}
