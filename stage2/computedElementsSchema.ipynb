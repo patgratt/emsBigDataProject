{
 "cells": [
  {
   "cell_type": "code",
   "execution_count": 2,
   "metadata": {},
   "outputs": [],
   "source": [
    "import pandas as pd"
   ]
  },
  {
   "cell_type": "code",
   "execution_count": 3,
   "metadata": {},
   "outputs": [],
   "source": [
    "df = pd.read_csv('/Users/patrickburke/Library/CloudStorage/OneDrive-EmoryUniversity/ECON496RW/cleaned_big/computedelements_chunks/computedelements_chunk1.csv')"
   ]
  },
  {
   "cell_type": "code",
   "execution_count": 4,
   "metadata": {},
   "outputs": [
    {
     "data": {
      "text/html": [
       "<div>\n",
       "<style scoped>\n",
       "    .dataframe tbody tr th:only-of-type {\n",
       "        vertical-align: middle;\n",
       "    }\n",
       "\n",
       "    .dataframe tbody tr th {\n",
       "        vertical-align: top;\n",
       "    }\n",
       "\n",
       "    .dataframe thead th {\n",
       "        text-align: right;\n",
       "    }\n",
       "</style>\n",
       "<table border=\"1\" class=\"dataframe\">\n",
       "  <thead>\n",
       "    <tr style=\"text-align: right;\">\n",
       "      <th></th>\n",
       "      <th>PcrKey</th>\n",
       "      <th>USCensusRegion</th>\n",
       "      <th>USCensusDivision</th>\n",
       "      <th>NasemsoRegion</th>\n",
       "      <th>Urbanicity</th>\n",
       "      <th>ageinyear</th>\n",
       "      <th>EMSDispatchCenterTimeSec</th>\n",
       "      <th>EMSChuteTimeMin</th>\n",
       "      <th>EMSSystemResponseTimeMin</th>\n",
       "      <th>EMSSceneResponseTimeMin</th>\n",
       "      <th>EMSSceneTimeMin</th>\n",
       "      <th>EMSSceneToPatientTimeMin</th>\n",
       "      <th>EMSTransportTimeMin</th>\n",
       "      <th>EMSTotalCallTimeMin</th>\n",
       "    </tr>\n",
       "  </thead>\n",
       "  <tbody>\n",
       "    <tr>\n",
       "      <th>0</th>\n",
       "      <td>1472192</td>\n",
       "      <td>Northeast</td>\n",
       "      <td>New England</td>\n",
       "      <td>East</td>\n",
       "      <td>NaN</td>\n",
       "      <td>.</td>\n",
       "      <td>.</td>\n",
       "      <td>1</td>\n",
       "      <td>8</td>\n",
       "      <td>7</td>\n",
       "      <td>.</td>\n",
       "      <td>.</td>\n",
       "      <td>.</td>\n",
       "      <td>11</td>\n",
       "    </tr>\n",
       "    <tr>\n",
       "      <th>1</th>\n",
       "      <td>13273412</td>\n",
       "      <td>West</td>\n",
       "      <td>Mountain</td>\n",
       "      <td>West</td>\n",
       "      <td>Urban</td>\n",
       "      <td>78</td>\n",
       "      <td>0</td>\n",
       "      <td>0</td>\n",
       "      <td>8.6333333333</td>\n",
       "      <td>8.6333333333</td>\n",
       "      <td>6.5166666667</td>\n",
       "      <td>0.7333333333</td>\n",
       "      <td>9.8833333333</td>\n",
       "      <td>45.366666667</td>\n",
       "    </tr>\n",
       "    <tr>\n",
       "      <th>2</th>\n",
       "      <td>14548133</td>\n",
       "      <td>West</td>\n",
       "      <td>Mountain</td>\n",
       "      <td>Western Plains</td>\n",
       "      <td>Rural</td>\n",
       "      <td>54</td>\n",
       "      <td>.</td>\n",
       "      <td>.</td>\n",
       "      <td>.</td>\n",
       "      <td>.</td>\n",
       "      <td>.</td>\n",
       "      <td>.</td>\n",
       "      <td>.</td>\n",
       "      <td>.</td>\n",
       "    </tr>\n",
       "    <tr>\n",
       "      <th>3</th>\n",
       "      <td>17184298</td>\n",
       "      <td>Midwest</td>\n",
       "      <td>West North Central</td>\n",
       "      <td>Great Lakes</td>\n",
       "      <td>Urban</td>\n",
       "      <td>10</td>\n",
       "      <td>.</td>\n",
       "      <td>.</td>\n",
       "      <td>.</td>\n",
       "      <td>.</td>\n",
       "      <td>.</td>\n",
       "      <td>.</td>\n",
       "      <td>.</td>\n",
       "      <td>.</td>\n",
       "    </tr>\n",
       "    <tr>\n",
       "      <th>4</th>\n",
       "      <td>21699657</td>\n",
       "      <td>Midwest</td>\n",
       "      <td>West North Central</td>\n",
       "      <td>Western Plains</td>\n",
       "      <td>Suburban</td>\n",
       "      <td>84</td>\n",
       "      <td>.</td>\n",
       "      <td>.</td>\n",
       "      <td>.</td>\n",
       "      <td>.</td>\n",
       "      <td>.</td>\n",
       "      <td>.</td>\n",
       "      <td>.</td>\n",
       "      <td>.</td>\n",
       "    </tr>\n",
       "  </tbody>\n",
       "</table>\n",
       "</div>"
      ],
      "text/plain": [
       "     PcrKey USCensusRegion    USCensusDivision   NasemsoRegion Urbanicity  \\\n",
       "0   1472192      Northeast         New England            East        NaN   \n",
       "1  13273412           West            Mountain            West      Urban   \n",
       "2  14548133           West            Mountain  Western Plains      Rural   \n",
       "3  17184298        Midwest  West North Central     Great Lakes      Urban   \n",
       "4  21699657        Midwest  West North Central  Western Plains   Suburban   \n",
       "\n",
       "  ageinyear EMSDispatchCenterTimeSec EMSChuteTimeMin EMSSystemResponseTimeMin  \\\n",
       "0         .                        .               1                        8   \n",
       "1        78                        0               0             8.6333333333   \n",
       "2        54                        .               .                        .   \n",
       "3        10                        .               .                        .   \n",
       "4        84                        .               .                        .   \n",
       "\n",
       "  EMSSceneResponseTimeMin EMSSceneTimeMin EMSSceneToPatientTimeMin  \\\n",
       "0                       7               .                        .   \n",
       "1            8.6333333333    6.5166666667             0.7333333333   \n",
       "2                       .               .                        .   \n",
       "3                       .               .                        .   \n",
       "4                       .               .                        .   \n",
       "\n",
       "  EMSTransportTimeMin EMSTotalCallTimeMin  \n",
       "0                   .                  11  \n",
       "1        9.8833333333        45.366666667  \n",
       "2                   .                   .  \n",
       "3                   .                   .  \n",
       "4                   .                   .  "
      ]
     },
     "execution_count": 4,
     "metadata": {},
     "output_type": "execute_result"
    }
   ],
   "source": [
    "df.head()"
   ]
  },
  {
   "cell_type": "code",
   "execution_count": 5,
   "metadata": {},
   "outputs": [
    {
     "data": {
      "text/plain": [
       "'CREATE TABLE computedelements (PcrKey INTEGER,  USCensusRegion TEXT,  USCensusDivision TEXT,  NasemsoRegion TEXT,  Urbanicity TEXT,  ageinyear TEXT,  EMSDispatchCenterTimeSec TEXT,  EMSChuteTimeMin TEXT,  EMSSystemResponseTimeMin TEXT,  EMSSceneResponseTimeMin TEXT,  EMSSceneTimeMin TEXT,  EMSSceneToPatientTimeMin TEXT,  EMSTransportTimeMin TEXT,  EMSTotalCallTimeMin TEXT)'"
      ]
     },
     "execution_count": 5,
     "metadata": {},
     "output_type": "execute_result"
    }
   ],
   "source": [
    "schema = pd.io.sql.get_schema(df, 'computedelements')\n",
    "schema = schema.replace(\"\\n\", \"\")\n",
    "schema = schema.replace('\"','')\n",
    "schema"
   ]
  },
  {
   "cell_type": "markdown",
   "metadata": {},
   "source": [
    "- We'll use this at the template for the schema for the sqlite db, just gotta manually edit the data types\n",
    "- PCR key is an int and primary key\n",
    "- Next 4 columns are text\n",
    "- age should be int\n",
    "- we'll look thru the rest to see if they should be int or float"
   ]
  },
  {
   "cell_type": "code",
   "execution_count": 6,
   "metadata": {},
   "outputs": [],
   "source": [
    "a = df.EMSDispatchCenterTimeSec.values.tolist()"
   ]
  },
  {
   "cell_type": "code",
   "execution_count": 8,
   "metadata": {},
   "outputs": [
    {
     "name": "stdout",
     "output_type": "stream",
     "text": [
      "['.', '0', '.', '.', '.', '0', '.', '0', '.', '0', '38', '.', '.', '.', '.', '.', '.', '.', '.', '55', '0', '81', '.', '0', '62', '4', '103', '36', '0', '102', '78', '11', '1860', '70', '0', '8', '0', '0', '.', '.', '.', '97', '0', '.', '37', '.', '0', '81', '19', '100', '68', '7', '0', '0', '120', '4', '117', '0', '.', '985', '.', '.', '290', '0', '45', '27', '267', '454', '.', '135', '0', '0', '.', '0', '0', '0', '0', '0', '223', '0', '110', '.', '0', '36', '0', '0', '0', '28', '22', '0', '0', '129', '0', '0', '.', '0', '231', '.', '0', '.', '2144', '41', '.', '0', '3', '.', '0', '45', '48', '56', '47', '0', '.', '.', '0', '0', '0', '284', '.', '46', '0', '0', '64', '0', '.', '.', '150', '87', '.', '90', '.', '60', '6', '316', '72', '120', '.', '0', '0', '137', '0', '0', '120', '2473', '0', '79', '72', '52', '0', '12', '59', '9', '962', '7', '83', '37', '0', '0', '.', '0', '581', '24', '.', '0', '0', '0', '.', '.', '659', '0', '.', '.', '46', '0', '1701', '6', '.', '0', '0', '0', '.', '37', '24', '.', '0', '11', '28', '0', '.', '65', '0', '0', '0', '248', '0', '0', '221', '.', '0', '41', '0', '0', '189', '2331', '.', '.', '36', '.', '.', '9', '.', '0', '0', '61', '.', '.', '0', '84', '2', '0', '34', '0', '9', '0', '53', '99', '.', '.', '0', '.', '2119', '54', '0', '.', '6', '1', '0', '2027', '94', '0', '0', '0', '0', '.', '.', '0', '.', '0', '240', '0', '0', '2405', '101', '1', '240', '0', '151', '0', '0', '.', '16', '0', '.', '0', '0', '122', '0', '95', '60', '36', '799', '31', '0', '.', '.', '0', '92', '0', '0', '.', '0', '0', '.', '122', '57', '.', '.', '0', '2082', '4', '0', '17', '27', '0', '62', '.', '0', '243', '0', '60']\n"
     ]
    }
   ],
   "source": [
    "print(a[:300])"
   ]
  },
  {
   "cell_type": "markdown",
   "metadata": {},
   "source": [
    "That's gonna be int"
   ]
  },
  {
   "cell_type": "code",
   "execution_count": 20,
   "metadata": {},
   "outputs": [],
   "source": [
    "b = df.EMSChuteTimeMin.values"
   ]
  },
  {
   "cell_type": "code",
   "execution_count": 22,
   "metadata": {},
   "outputs": [
    {
     "name": "stdout",
     "output_type": "stream",
     "text": [
      "['1' '0' '.' '.' '.' '0' '.' '3.3333333333' '0' '0' '0.0666666667' '1' '0'\n",
      " '0' '8' '2' '39' '7' '2' '2.4' '2' '1.5' '1.3333333333' '0.8666666667'\n",
      " '0.6666666667' '0.0333333333' '0.8' '0.6833333333' '3.2' '2.6166666667'\n",
      " '1.0333333333' '2.7' '3' '1.45' '0.75' '1.3666666667' '1.35' '1.75' '0'\n",
      " '0.6' '4.1' '2.5166666667' '0.2666666667' '2' '1.6833333333'\n",
      " '2.0833333333' '0.7833333333' '0.8333333333' '4.2833333333' '2.15' '1.3'\n",
      " '1.1833333333' '3' '2' '1.5666666667' '0.0333333333' '0.2833333333'\n",
      " '0.5666666667' '3.4' '0.95' '2.3333333333' '0.1166666667' '0.35'\n",
      " '0.4166666667' '0.6' '0.7833333333' '0' '0.05' '7' '2.2166666667'\n",
      " '1.5333333333' '2.8333333333' '0.9166666667' '0.0333333333' '5.4'\n",
      " '2.2166666667' '1.1333333333' '0' '2.35' '12.883333333' '1.15' '0'\n",
      " '0.6833333333' '0.2333333333' '1.2666666667' '0.8833333333' '0.6' '1.45'\n",
      " '0.2333333333' '1.1' '0.6166666667' '1.05' '1.5833333333' '9.9833333333'\n",
      " '0.0333333333' '0.0333333333' '4.0333333333' '0.4166666667' '0.3' '0.7']\n"
     ]
    }
   ],
   "source": [
    "print(b[:100])"
   ]
  },
  {
   "cell_type": "markdown",
   "metadata": {},
   "source": [
    "float"
   ]
  },
  {
   "cell_type": "code",
   "execution_count": 23,
   "metadata": {},
   "outputs": [],
   "source": [
    "c = df.EMSSystemResponseTimeMin.values"
   ]
  },
  {
   "cell_type": "code",
   "execution_count": 24,
   "metadata": {},
   "outputs": [
    {
     "name": "stdout",
     "output_type": "stream",
     "text": [
      "['8' '8.6333333333' '.' '.' '.' '18' '.' '3.9833333333' '10' '12' '.' '29'\n",
      " '3' '109' '31' '4' '49' '20' '7' '9.6666666667' '7' '7.55' '13.966666667'\n",
      " '0.8833333333' '4.25' '17.4' '6.5' '7.3666666667' '5.1' '7.9666666667'\n",
      " '5.8333333333' '8.15' '26' '3.3' '20.816666667' '7.6' '14.45'\n",
      " '14.733333333' '4' '2.5333333333' '13.533333333' '7.8' '10.2' '6' '4.4'\n",
      " '8.5666666667' '15.833333333' '7.65' '13.466666667' '12.333333333'\n",
      " '4.2166666667' '2.9333333333' '19' '13' '4.1333333333' '8.2666666667'\n",
      " '1.8833333333' '11.45' '7.2166666667' '4.1166666667' '6.75' '9.8'\n",
      " '10.483333333' '14.45' '4.7666666667' '7.7333333333' '3.7' '32.883333333'\n",
      " '34' '8.2833333333' '8.9' '6.7' '3.2666666667' '13.25' '5.4333333333'\n",
      " '9.6' '8.2' '3' '9.9333333333' '.' '5.1166666667' '5.7666666667' '12.7'\n",
      " '8.75' '11.516666667' '7.0833333333' '13.3' '8.2666666667' '9.45' '.' '.'\n",
      " '11.4' '22.7' '11.416666667' '3.7833333333' '11.366666667' '22.766666667'\n",
      " '0.7333333333' '28.45' '3.7833333333']\n"
     ]
    }
   ],
   "source": [
    "print(c[:100])"
   ]
  },
  {
   "cell_type": "markdown",
   "metadata": {},
   "source": [
    "float"
   ]
  },
  {
   "cell_type": "code",
   "execution_count": 25,
   "metadata": {},
   "outputs": [
    {
     "name": "stdout",
     "output_type": "stream",
     "text": [
      "['7' '8.6333333333' '.' '.' '.' '18' '.' '0.65' '10' '12' '.' '28' '3'\n",
      " '109' '23' '2' '10' '13' '5' '7.2666666667' '5' '6.05' '12.633333333'\n",
      " '0.0166666667' '3.5833333333' '17.366666667' '5.7' '6.6833333333' '1.9'\n",
      " '5.35' '4.8' '5.45' '23' '1.85' '20.066666667' '6.2333333333' '13.1'\n",
      " '12.983333333' '4' '1.9333333333' '9.4333333333' '5.2833333333'\n",
      " '9.9333333333' '4' '2.7166666667' '6.4833333333' '15.05' '6.8166666667'\n",
      " '9.1833333333' '10.183333333' '2.9166666667' '1.75' '16' '11'\n",
      " '2.5666666667' '8.2333333333' '1.6' '10.883333333' '3.8166666667'\n",
      " '3.1666666667' '4.4166666667' '9.6833333333' '10.133333333'\n",
      " '14.033333333' '4.1666666667' '6.95' '3.7' '32.833333333' '27'\n",
      " '6.0666666667' '7.3666666667' '3.8666666667' '2.35' '13.216666667'\n",
      " '0.0333333333' '7.3833333333' '7.0666666667' '3' '7.5833333333' '.'\n",
      " '3.9666666667' '5.7666666667' '12.016666667' '8.5166666667' '10.25' '6.2'\n",
      " '12.7' '6.8166666667' '9.2166666667' '.' '.' '10.35' '21.116666667'\n",
      " '1.4333333333' '3.75' '11.333333333' '18.733333333' '0.3166666667'\n",
      " '28.15' '3.0833333333']\n"
     ]
    }
   ],
   "source": [
    "d = df.EMSSceneResponseTimeMin.values\n",
    "print(d[:100])"
   ]
  },
  {
   "cell_type": "markdown",
   "metadata": {},
   "source": [
    "float"
   ]
  },
  {
   "cell_type": "code",
   "execution_count": 26,
   "metadata": {},
   "outputs": [
    {
     "name": "stdout",
     "output_type": "stream",
     "text": [
      "['.' '6.5166666667' '.' '.' '.' '12' '.' '10.283333333' '.' '22' '.' '5'\n",
      " '17' '29' '7' '8' '15' '7' '55' '8.1666666667' '22' '.' '25.45' '.' '.'\n",
      " '20.65' '.' '.' '.' '21.583333333' '9.8833333333' '10.116666667' '28'\n",
      " '13.766666667' '2.1' '.' '12.066666667' '20.166666667' '15' '.'\n",
      " '8.0666666667' '8.9333333333' '38.833333333' '.' '20.316666667' '34.1'\n",
      " '9.6333333333' '.' '7.5833333333' '9.0333333333' '21.366666667'\n",
      " '13.333333333' '16' '.' '.' '.' '.' '21.966666667' '.' '19.883333333' '.'\n",
      " '31.966666667' '31.75' '28.066666667' '.' '.' '9.4166666667' '.' '20' '.'\n",
      " '3.45' '.' '15.75' '3.8666666667' '15.716666667' '.' '4.7333333333' '13'\n",
      " '6.6666666667' '.' '.' '24.616666667' '18.216666667' '12.4'\n",
      " '3.2833333333' '16.033333333' '18.583333333' '21.2' '.' '.' '.' '28.4'\n",
      " '17.533333333' '16.933333333' '.' '.' '19.25' '18.833333333'\n",
      " '20.616666667' '.']\n"
     ]
    }
   ],
   "source": [
    "e = df.EMSSceneTimeMin.values\n",
    "print(e[:100])"
   ]
  },
  {
   "cell_type": "markdown",
   "metadata": {},
   "source": [
    "float"
   ]
  },
  {
   "cell_type": "code",
   "execution_count": 27,
   "metadata": {},
   "outputs": [
    {
     "name": "stdout",
     "output_type": "stream",
     "text": [
      "['.' '0.7333333333' '.' '.' '.' '0' '.' '.' '.' '0' '.' '1' '0' '3' '1'\n",
      " '1' '11.316666667' '0' '1' '.' '.' '.' '.' '1.4833333333' '.' '2'\n",
      " '0.7833333333' '0.6333333333' '.' '0.3' '1.1' '1' '17' '0.6666666667'\n",
      " '0.6333333333' '1' '4.4166666667' '3.7333333333' '1' '0.9666666667' '.'\n",
      " '0.5833333333' '5.1333333333' '0' '0.4833333333' '.' '2.8833333333'\n",
      " '0.15' '0.2166666667' '3.35' '0.1333333333' '1.2166666667' '1' '1'\n",
      " '0.8833333333' '1' '0.0166666667' '1.15' '0.75' '0.8833333333'\n",
      " '0.7333333333' '0.9666666667' '4.4833333333' '2.0833333333'\n",
      " '0.4833333333' '.' '.' '0.6' '1' '0.45' '2' '0' '.' '1.3333333333' '3.85'\n",
      " '0' '1' '4' '0.6666666667' '.' '9.1666666667' '.' '1' '1.3333333333'\n",
      " '0.45' '11.683333333' '1' '1.2666666667' '.' '.' '.' '0.2333333333'\n",
      " '5.9166666667' '6' '.' '.' '0.2666666667' '2.8833333333' '6.0666666667'\n",
      " '0.0166666667']\n"
     ]
    }
   ],
   "source": [
    "f = df.EMSSceneToPatientTimeMin.values\n",
    "print(f[:100])\n"
   ]
  },
  {
   "cell_type": "markdown",
   "metadata": {},
   "source": [
    "float"
   ]
  },
  {
   "cell_type": "code",
   "execution_count": 28,
   "metadata": {},
   "outputs": [
    {
     "name": "stdout",
     "output_type": "stream",
     "text": [
      "['.' '9.8833333333' '.' '.' '.' '27' '.' '.' '.' '8' '.' '32' '55' '8'\n",
      " '30' '.' '9' '12' '.' '.' '.' '.' '.' '.' '.' '9.6833333333' '.' '.' '.'\n",
      " '7.1' '11.483333333' '13.683333333' '86' '1.3666666667' '38.15' '.'\n",
      " '24.416666667' '27.266666667' '6' '.' '21.816666667' '.' '47' '.' '.'\n",
      " '16.166666667' '23.25' '.' '13.216666667' '19.133333333' '4.3' '8.1' '46'\n",
      " '.' '.' '.' '.' '17.266666667' '.' '.' '.' '9' '28.933333333'\n",
      " '16.766666667' '.' '.' '5.8666666667' '.' '7' '.' '11.766666667' '.' '.'\n",
      " '10.466666667' '5.0666666667' '.' '9.7333333333' '9' '29' '.' '.' '.'\n",
      " '27.333333333' '2.5666666667' '26.666666667' '15.033333333'\n",
      " '8.4833333333' '.' '.' '.' '.' '6.45' '10.5' '56.6' '.' '.'\n",
      " '32.933333333' '45.133333333' '17.433333333' '.']\n"
     ]
    }
   ],
   "source": [
    "g = df.EMSTransportTimeMin.values\n",
    "print(g[:100])"
   ]
  },
  {
   "cell_type": "markdown",
   "metadata": {},
   "source": [
    "float"
   ]
  },
  {
   "cell_type": "code",
   "execution_count": 29,
   "metadata": {},
   "outputs": [
    {
     "name": "stdout",
     "output_type": "stream",
     "text": [
      "['11' '45.366666667' '.' '.' '.' '77' '.' '68.366666667' '353' '.'\n",
      " '2.8166666667' '76' '99' '147' '96' '12' '76' '56' '72' '17.833333333'\n",
      " '56' '11.016666667' '39.416666667' '8.9' '22.133333333' '74.4' '27.9'\n",
      " '19.366666667' '26.783333333' '70.966666667' '55.283333333' '62.65' '158'\n",
      " '35.183333333' '63.1' '27.35' '59.15' '78.166666667' '40' '39.233333333'\n",
      " '57.533333333' '16.733333333' '107.03333333' '28' '25.366666667' '61'\n",
      " '67.183333333' '42.683333333' '44.716666667' '68.983333333' '44.35'\n",
      " '57.266666667' '108' '108' '20.9' '11.266666667' '13.2' '68.85' '44.85'\n",
      " '24.45' '34.833333333' '74.766666667' '91.05' '75.25' '19.583333333'\n",
      " '10.266666667' '49.633333333' '124.16666667' '79' '32.516666667'\n",
      " '55.733333333' '41.1' '19.016666667' '52.583333333' '66.383333333' '25.3'\n",
      " '32.133333333' '37' '76.6' '14.85' '47.633333333' '30.383333333'\n",
      " '76.666666667' '65.533333333' '86.116666667' '50' '163.5' '29.466666667'\n",
      " '43.45' '3.4166666667' '4.8166666667' '101.63333333' '87.566666667'\n",
      " '101.88333333' '5.7833333333' '12.316666667' '115.23333333'\n",
      " '81.616666667' '96.4' '38.45']\n"
     ]
    }
   ],
   "source": [
    "h = df.EMSTotalCallTimeMin.values\n",
    "print(h[:100])"
   ]
  },
  {
   "cell_type": "markdown",
   "metadata": {},
   "source": [
    "float"
   ]
  },
  {
   "cell_type": "code",
   "execution_count": 11,
   "metadata": {},
   "outputs": [
    {
     "name": "stdout",
     "output_type": "stream",
     "text": [
      "PcrKey,\n",
      "USCensusRegion,\n",
      "USCensusDivision,\n",
      "NasemsoRegion,\n",
      "Urbanicity,\n",
      "ageinyear,\n",
      "EMSDispatchCenterTimeSec,\n",
      "EMSChuteTimeMin,\n",
      "EMSSystemResponseTimeMin,\n",
      "EMSSceneResponseTimeMin,\n",
      "EMSSceneTimeMin,\n",
      "EMSSceneToPatientTimeMin,\n",
      "EMSTransportTimeMin,\n",
      "EMSTotalCallTimeMin\n"
     ]
    }
   ],
   "source": [
    "# cols list for insert statement\n",
    "cols = list(df.columns)\n",
    "print(',\\n'.join(map(str, cols)))"
   ]
  },
  {
   "cell_type": "code",
   "execution_count": 12,
   "metadata": {},
   "outputs": [
    {
     "data": {
      "text/plain": [
       "14"
      ]
     },
     "execution_count": 12,
     "metadata": {},
     "output_type": "execute_result"
    }
   ],
   "source": [
    "len(cols)"
   ]
  },
  {
   "cell_type": "code",
   "execution_count": 17,
   "metadata": {},
   "outputs": [
    {
     "name": "stdout",
     "output_type": "stream",
     "text": [
      " ?, ?, ?, ?, ?, ?, ?, ?, ?, ?, ?, ?, ?, ?\n"
     ]
    }
   ],
   "source": [
    "q = [' ?'] * 14\n",
    "print(','.join(map(str, q)))"
   ]
  },
  {
   "cell_type": "code",
   "execution_count": null,
   "metadata": {},
   "outputs": [],
   "source": []
  }
 ],
 "metadata": {
  "kernelspec": {
   "display_name": "Python 3.9.13 ('emsData')",
   "language": "python",
   "name": "python3"
  },
  "language_info": {
   "codemirror_mode": {
    "name": "ipython",
    "version": 3
   },
   "file_extension": ".py",
   "mimetype": "text/x-python",
   "name": "python",
   "nbconvert_exporter": "python",
   "pygments_lexer": "ipython3",
   "version": "3.9.13"
  },
  "orig_nbformat": 4,
  "vscode": {
   "interpreter": {
    "hash": "e73fd14faab1d3a910992afd86c0d2e0faf6164497d557d85f7ad88fc301c927"
   }
  }
 },
 "nbformat": 4,
 "nbformat_minor": 2
}
