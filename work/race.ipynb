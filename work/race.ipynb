{
 "cells": [
  {
   "cell_type": "code",
   "execution_count": 18,
   "metadata": {},
   "outputs": [],
   "source": [
    "import pandas as pd\n",
    "import numpy as np"
   ]
  },
  {
   "cell_type": "code",
   "execution_count": 19,
   "metadata": {},
   "outputs": [],
   "source": [
    "# load in (cleaned) table containing race info\n",
    "df = pd.read_csv(\"/Users/patrickburke/Library/CloudStorage/OneDrive-EmoryUniversity/ECON496RW/cleaned_small/pcrpatientracegroup.csv\")"
   ]
  },
  {
   "cell_type": "code",
   "execution_count": 23,
   "metadata": {},
   "outputs": [
    {
     "data": {
      "text/html": [
       "<div>\n",
       "<style scoped>\n",
       "    .dataframe tbody tr th:only-of-type {\n",
       "        vertical-align: middle;\n",
       "    }\n",
       "\n",
       "    .dataframe tbody tr th {\n",
       "        vertical-align: top;\n",
       "    }\n",
       "\n",
       "    .dataframe thead th {\n",
       "        text-align: right;\n",
       "    }\n",
       "</style>\n",
       "<table border=\"1\" class=\"dataframe\">\n",
       "  <thead>\n",
       "    <tr style=\"text-align: right;\">\n",
       "      <th></th>\n",
       "      <th>PcrPatientRaceGroupKey</th>\n",
       "      <th>PcrKey</th>\n",
       "      <th>ePatient_14</th>\n",
       "    </tr>\n",
       "  </thead>\n",
       "  <tbody>\n",
       "    <tr>\n",
       "      <th>0</th>\n",
       "      <td>2088217</td>\n",
       "      <td>1472192</td>\n",
       "      <td>7701003</td>\n",
       "    </tr>\n",
       "    <tr>\n",
       "      <th>1</th>\n",
       "      <td>16835623</td>\n",
       "      <td>13273412</td>\n",
       "      <td>2514011</td>\n",
       "    </tr>\n",
       "    <tr>\n",
       "      <th>2</th>\n",
       "      <td>18418102</td>\n",
       "      <td>14548133</td>\n",
       "      <td>7701003</td>\n",
       "    </tr>\n",
       "    <tr>\n",
       "      <th>3</th>\n",
       "      <td>21377926</td>\n",
       "      <td>17184298</td>\n",
       "      <td>2514011</td>\n",
       "    </tr>\n",
       "    <tr>\n",
       "      <th>4</th>\n",
       "      <td>38817731</td>\n",
       "      <td>21699657</td>\n",
       "      <td>2514011</td>\n",
       "    </tr>\n",
       "  </tbody>\n",
       "</table>\n",
       "</div>"
      ],
      "text/plain": [
       "   PcrPatientRaceGroupKey    PcrKey  ePatient_14\n",
       "0                 2088217   1472192      7701003\n",
       "1                16835623  13273412      2514011\n",
       "2                18418102  14548133      7701003\n",
       "3                21377926  17184298      2514011\n",
       "4                38817731  21699657      2514011"
      ]
     },
     "execution_count": 23,
     "metadata": {},
     "output_type": "execute_result"
    }
   ],
   "source": [
    "df.head()"
   ]
  },
  {
   "cell_type": "code",
   "execution_count": 24,
   "metadata": {},
   "outputs": [
    {
     "name": "stdout",
     "output_type": "stream",
     "text": [
      "[7701003, 2514011, 2514001, 2514005, 2514007, 7701001, 2514009, 2514003]\n"
     ]
    }
   ],
   "source": [
    "unique_values = list(df.ePatient_14.unique())\n",
    "print(unique_values)"
   ]
  },
  {
   "cell_type": "markdown",
   "metadata": {},
   "source": [
    "- 2514001 - American Indian or Alaska Native \n",
    "- 2514003 - Asian\n",
    "- 2514005 - Black or African American \n",
    "- 2514007 - Hispanic or Latino\n",
    "- 2514009 - Native Hawaiian or Other Pacific Islander\n",
    "- 2514011 - White\n",
    "- 7701001 - Not Applicable\n",
    "- 7701003 - Not Recorded"
   ]
  },
  {
   "cell_type": "code",
   "execution_count": 25,
   "metadata": {},
   "outputs": [
    {
     "data": {
      "text/plain": [
       "49555288"
      ]
     },
     "execution_count": 25,
     "metadata": {},
     "output_type": "execute_result"
    }
   ],
   "source": [
    "len(df.index)"
   ]
  },
  {
   "cell_type": "markdown",
   "metadata": {},
   "source": [
    "- total observations = 49,555,288\n",
    "- According to https://nemsis.org/using-ems-data/request-research-data/ the dataset includes 48,982,990 EMS activations, thus 572,298 patients in the dataset are listed as multiple races (this is perfectly OK)"
   ]
  },
  {
   "cell_type": "code",
   "execution_count": 26,
   "metadata": {},
   "outputs": [
    {
     "data": {
      "text/plain": [
       "2514011    0.432621\n",
       "7701003    0.301635\n",
       "2514005    0.156769\n",
       "2514007    0.065644\n",
       "7701001    0.023590\n",
       "2514003    0.010136\n",
       "2514001    0.006942\n",
       "2514009    0.002662\n",
       "Name: ePatient_14, dtype: float64"
      ]
     },
     "execution_count": 26,
     "metadata": {},
     "output_type": "execute_result"
    }
   ],
   "source": [
    "# check race proportions\n",
    "prop = df['ePatient_14'].value_counts(normalize=True)\n",
    "prop"
   ]
  },
  {
   "cell_type": "markdown",
   "metadata": {},
   "source": [
    "- I'm gonna drop all of the entries with missing race data\n",
    "- 30% not recorded, 2.3% not applicable\n",
    "    - this is sorta interesting, not recorded is obviously just missing data but not applicable could be people that don't fit into any of these categories?\n"
   ]
  },
  {
   "cell_type": "code",
   "execution_count": 27,
   "metadata": {},
   "outputs": [
    {
     "data": {
      "text/html": [
       "<div>\n",
       "<style scoped>\n",
       "    .dataframe tbody tr th:only-of-type {\n",
       "        vertical-align: middle;\n",
       "    }\n",
       "\n",
       "    .dataframe tbody tr th {\n",
       "        vertical-align: top;\n",
       "    }\n",
       "\n",
       "    .dataframe thead th {\n",
       "        text-align: right;\n",
       "    }\n",
       "</style>\n",
       "<table border=\"1\" class=\"dataframe\">\n",
       "  <thead>\n",
       "    <tr style=\"text-align: right;\">\n",
       "      <th></th>\n",
       "      <th>PcrPatientRaceGroupKey</th>\n",
       "      <th>PcrKey</th>\n",
       "      <th>ePatient_14</th>\n",
       "    </tr>\n",
       "  </thead>\n",
       "  <tbody>\n",
       "    <tr>\n",
       "      <th>1</th>\n",
       "      <td>16835623</td>\n",
       "      <td>13273412</td>\n",
       "      <td>2514011</td>\n",
       "    </tr>\n",
       "    <tr>\n",
       "      <th>3</th>\n",
       "      <td>21377926</td>\n",
       "      <td>17184298</td>\n",
       "      <td>2514011</td>\n",
       "    </tr>\n",
       "    <tr>\n",
       "      <th>4</th>\n",
       "      <td>38817731</td>\n",
       "      <td>21699657</td>\n",
       "      <td>2514011</td>\n",
       "    </tr>\n",
       "    <tr>\n",
       "      <th>6</th>\n",
       "      <td>97354357</td>\n",
       "      <td>72057010</td>\n",
       "      <td>2514011</td>\n",
       "    </tr>\n",
       "    <tr>\n",
       "      <th>11</th>\n",
       "      <td>111683931</td>\n",
       "      <td>83733589</td>\n",
       "      <td>2514001</td>\n",
       "    </tr>\n",
       "  </tbody>\n",
       "</table>\n",
       "</div>"
      ],
      "text/plain": [
       "    PcrPatientRaceGroupKey    PcrKey  ePatient_14\n",
       "1                 16835623  13273412      2514011\n",
       "3                 21377926  17184298      2514011\n",
       "4                 38817731  21699657      2514011\n",
       "6                 97354357  72057010      2514011\n",
       "11               111683931  83733589      2514001"
      ]
     },
     "execution_count": 27,
     "metadata": {},
     "output_type": "execute_result"
    }
   ],
   "source": [
    "# drop not recorded and n/a\n",
    "# pandas uses | as the symbol for \"or\"\n",
    "nan_obs = df[ (df['ePatient_14'] == 7701003) | (df['ePatient_14'] == 7701001)].index\n",
    "df.drop(nan_obs, inplace = True)\n",
    "df.head()"
   ]
  },
  {
   "cell_type": "code",
   "execution_count": 28,
   "metadata": {},
   "outputs": [
    {
     "data": {
      "text/plain": [
       "33438658"
      ]
     },
     "execution_count": 28,
     "metadata": {},
     "output_type": "execute_result"
    }
   ],
   "source": [
    "len(df.index)"
   ]
  },
  {
   "cell_type": "code",
   "execution_count": 29,
   "metadata": {},
   "outputs": [
    {
     "data": {
      "text/plain": [
       "2514011    0.641134\n",
       "2514005    0.232328\n",
       "2514007    0.097283\n",
       "2514003    0.015021\n",
       "2514001    0.010288\n",
       "2514009    0.003946\n",
       "Name: ePatient_14, dtype: float64"
      ]
     },
     "execution_count": 29,
     "metadata": {},
     "output_type": "execute_result"
    }
   ],
   "source": [
    "# check new proportions\n",
    "prop = df['ePatient_14'].value_counts(normalize=True)\n",
    "prop"
   ]
  },
  {
   "cell_type": "markdown",
   "metadata": {},
   "source": [
    "- 64% white\n",
    "- 23% black\n",
    "- 10% hispanic / latino\n",
    "- 2% asian"
   ]
  },
  {
   "cell_type": "markdown",
   "metadata": {},
   "source": []
  }
 ],
 "metadata": {
  "kernelspec": {
   "display_name": "Python 3.9.13 ('emsData')",
   "language": "python",
   "name": "python3"
  },
  "language_info": {
   "codemirror_mode": {
    "name": "ipython",
    "version": 3
   },
   "file_extension": ".py",
   "mimetype": "text/x-python",
   "name": "python",
   "nbconvert_exporter": "python",
   "pygments_lexer": "ipython3",
   "version": "3.9.13"
  },
  "orig_nbformat": 4,
  "vscode": {
   "interpreter": {
    "hash": "e73fd14faab1d3a910992afd86c0d2e0faf6164497d557d85f7ad88fc301c927"
   }
  }
 },
 "nbformat": 4,
 "nbformat_minor": 2
}
