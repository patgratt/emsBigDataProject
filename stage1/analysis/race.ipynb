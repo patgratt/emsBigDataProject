{
 "cells": [
  {
   "cell_type": "code",
   "execution_count": 1,
   "metadata": {},
   "outputs": [],
   "source": [
    "import pandas as pd"
   ]
  },
  {
   "cell_type": "code",
   "execution_count": 2,
   "metadata": {},
   "outputs": [],
   "source": [
    "# load in (cleaned) table containing race info\n",
    "df = pd.read_csv(\"/Users/patrickburke/Library/CloudStorage/OneDrive-EmoryUniversity/ECON496RW/cleaned_small/pcrpatientracegroup.csv\")"
   ]
  },
  {
   "cell_type": "markdown",
   "metadata": {},
   "source": [
    "Wow only took ~15s to load all that"
   ]
  },
  {
   "cell_type": "code",
   "execution_count": 3,
   "metadata": {},
   "outputs": [
    {
     "data": {
      "text/html": [
       "<div>\n",
       "<style scoped>\n",
       "    .dataframe tbody tr th:only-of-type {\n",
       "        vertical-align: middle;\n",
       "    }\n",
       "\n",
       "    .dataframe tbody tr th {\n",
       "        vertical-align: top;\n",
       "    }\n",
       "\n",
       "    .dataframe thead th {\n",
       "        text-align: right;\n",
       "    }\n",
       "</style>\n",
       "<table border=\"1\" class=\"dataframe\">\n",
       "  <thead>\n",
       "    <tr style=\"text-align: right;\">\n",
       "      <th></th>\n",
       "      <th>PcrPatientRaceGroupKey</th>\n",
       "      <th>PcrKey</th>\n",
       "      <th>ePatient_14</th>\n",
       "    </tr>\n",
       "  </thead>\n",
       "  <tbody>\n",
       "    <tr>\n",
       "      <th>0</th>\n",
       "      <td>2088217</td>\n",
       "      <td>1472192</td>\n",
       "      <td>7701003</td>\n",
       "    </tr>\n",
       "    <tr>\n",
       "      <th>1</th>\n",
       "      <td>16835623</td>\n",
       "      <td>13273412</td>\n",
       "      <td>2514011</td>\n",
       "    </tr>\n",
       "    <tr>\n",
       "      <th>2</th>\n",
       "      <td>18418102</td>\n",
       "      <td>14548133</td>\n",
       "      <td>7701003</td>\n",
       "    </tr>\n",
       "    <tr>\n",
       "      <th>3</th>\n",
       "      <td>21377926</td>\n",
       "      <td>17184298</td>\n",
       "      <td>2514011</td>\n",
       "    </tr>\n",
       "    <tr>\n",
       "      <th>4</th>\n",
       "      <td>38817731</td>\n",
       "      <td>21699657</td>\n",
       "      <td>2514011</td>\n",
       "    </tr>\n",
       "  </tbody>\n",
       "</table>\n",
       "</div>"
      ],
      "text/plain": [
       "   PcrPatientRaceGroupKey    PcrKey  ePatient_14\n",
       "0                 2088217   1472192      7701003\n",
       "1                16835623  13273412      2514011\n",
       "2                18418102  14548133      7701003\n",
       "3                21377926  17184298      2514011\n",
       "4                38817731  21699657      2514011"
      ]
     },
     "execution_count": 3,
     "metadata": {},
     "output_type": "execute_result"
    }
   ],
   "source": [
    "df.head()"
   ]
  },
  {
   "cell_type": "code",
   "execution_count": 4,
   "metadata": {},
   "outputs": [
    {
     "name": "stdout",
     "output_type": "stream",
     "text": [
      "[7701003, 2514011, 2514001, 2514005, 2514007, 7701001, 2514009, 2514003]\n"
     ]
    }
   ],
   "source": [
    "unique_values = list(df.ePatient_14.unique())\n",
    "print(unique_values)"
   ]
  },
  {
   "cell_type": "markdown",
   "metadata": {},
   "source": [
    "- 2514001 - American Indian or Alaska Native \n",
    "- 2514003 - Asian\n",
    "- 2514005 - Black or African American \n",
    "- 2514007 - Hispanic or Latino\n",
    "- 2514009 - Native Hawaiian or Other Pacific Islander\n",
    "- 2514011 - White\n",
    "- 7701001 - Not Applicable\n",
    "- 7701003 - Not Recorded"
   ]
  },
  {
   "cell_type": "code",
   "execution_count": 5,
   "metadata": {},
   "outputs": [
    {
     "data": {
      "text/plain": [
       "49555288"
      ]
     },
     "execution_count": 5,
     "metadata": {},
     "output_type": "execute_result"
    }
   ],
   "source": [
    "len(df.index)"
   ]
  },
  {
   "cell_type": "markdown",
   "metadata": {},
   "source": [
    "- total observations = 49,555,288\n",
    "- According to https://nemsis.org/using-ems-data/request-research-data/ the dataset includes 48,982,990 EMS activations\n",
    "    - Thus we have 572,298 extra rows\n",
    "    - This makes sense as there must be patients in the dataset that are listed as multiple races (this is perfectly OK)\n",
    "- I'm gonna pull the observations with multiple races and check those out"
   ]
  },
  {
   "cell_type": "code",
   "execution_count": 7,
   "metadata": {},
   "outputs": [],
   "source": [
    "dup = df[df.duplicated('PcrKey',False)]"
   ]
  },
  {
   "cell_type": "code",
   "execution_count": 9,
   "metadata": {},
   "outputs": [
    {
     "data": {
      "text/html": [
       "<div>\n",
       "<style scoped>\n",
       "    .dataframe tbody tr th:only-of-type {\n",
       "        vertical-align: middle;\n",
       "    }\n",
       "\n",
       "    .dataframe tbody tr th {\n",
       "        vertical-align: top;\n",
       "    }\n",
       "\n",
       "    .dataframe thead th {\n",
       "        text-align: right;\n",
       "    }\n",
       "</style>\n",
       "<table border=\"1\" class=\"dataframe\">\n",
       "  <thead>\n",
       "    <tr style=\"text-align: right;\">\n",
       "      <th></th>\n",
       "      <th>PcrPatientRaceGroupKey</th>\n",
       "      <th>PcrKey</th>\n",
       "      <th>ePatient_14</th>\n",
       "    </tr>\n",
       "  </thead>\n",
       "  <tbody>\n",
       "    <tr>\n",
       "      <th>68</th>\n",
       "      <td>158136243</td>\n",
       "      <td>118170967</td>\n",
       "      <td>2514005</td>\n",
       "    </tr>\n",
       "    <tr>\n",
       "      <th>69</th>\n",
       "      <td>158136244</td>\n",
       "      <td>118170967</td>\n",
       "      <td>2514007</td>\n",
       "    </tr>\n",
       "    <tr>\n",
       "      <th>243</th>\n",
       "      <td>158136383</td>\n",
       "      <td>118171544</td>\n",
       "      <td>2514009</td>\n",
       "    </tr>\n",
       "    <tr>\n",
       "      <th>244</th>\n",
       "      <td>158136384</td>\n",
       "      <td>118171544</td>\n",
       "      <td>2514011</td>\n",
       "    </tr>\n",
       "    <tr>\n",
       "      <th>570</th>\n",
       "      <td>186751735</td>\n",
       "      <td>118172608</td>\n",
       "      <td>2514011</td>\n",
       "    </tr>\n",
       "  </tbody>\n",
       "</table>\n",
       "</div>"
      ],
      "text/plain": [
       "     PcrPatientRaceGroupKey     PcrKey  ePatient_14\n",
       "68                158136243  118170967      2514005\n",
       "69                158136244  118170967      2514007\n",
       "243               158136383  118171544      2514009\n",
       "244               158136384  118171544      2514011\n",
       "570               186751735  118172608      2514011"
      ]
     },
     "execution_count": 9,
     "metadata": {},
     "output_type": "execute_result"
    }
   ],
   "source": [
    "dup.head()"
   ]
  },
  {
   "cell_type": "markdown",
   "metadata": {},
   "source": [
    "- For example, this first person, PcrKey = 118170967, is listed as both 2514005 (black) AND 2514007 (hispanic/latino)\n",
    "- This makes perfect sense"
   ]
  },
  {
   "cell_type": "code",
   "execution_count": 15,
   "metadata": {},
   "outputs": [
    {
     "name": "stdout",
     "output_type": "stream",
     "text": [
      "1064494\n",
      "492196\n",
      "2.1627441100699722\n"
     ]
    }
   ],
   "source": [
    "print(len(dup))\n",
    "print(dup.PcrKey.nunique())\n",
    "print(len(dup)/dup.PcrKey.nunique())"
   ]
  },
  {
   "cell_type": "markdown",
   "metadata": {},
   "source": [
    "- We have a total of 1,064,494 PCRs that contain more than one value for race\n",
    "- We have a total of 492,196 patients that identify as 2 or more races\n",
    "- Each multi-racial patient has an average of 2.16 races"
   ]
  },
  {
   "cell_type": "code",
   "execution_count": 26,
   "metadata": {},
   "outputs": [
    {
     "data": {
      "text/plain": [
       "2514011    0.432621\n",
       "7701003    0.301635\n",
       "2514005    0.156769\n",
       "2514007    0.065644\n",
       "7701001    0.023590\n",
       "2514003    0.010136\n",
       "2514001    0.006942\n",
       "2514009    0.002662\n",
       "Name: ePatient_14, dtype: float64"
      ]
     },
     "execution_count": 26,
     "metadata": {},
     "output_type": "execute_result"
    }
   ],
   "source": [
    "# check race proportions\n",
    "prop = df['ePatient_14'].value_counts(normalize=True)\n",
    "prop"
   ]
  },
  {
   "cell_type": "markdown",
   "metadata": {},
   "source": [
    "- 43.3% White\n",
    "- 30.2% Not Recorded\n",
    "- 15.7% Black\n",
    "- 6.6% Hispanic\n",
    "- 2.4% Not Applicable\n",
    "- 1.0% Asian\n",
    "- 0.7% Native American\n",
    "- 0.2% American Indian or Alaska Native"
   ]
  },
  {
   "cell_type": "markdown",
   "metadata": {},
   "source": [
    "- I'm gonna drop all of the entries with missing race data\n",
    "    - Can't do any stats with missing data\n",
    "- 30% not recorded, 2.3% not applicable\n",
    "    - This is sorta interesting, not recorded is obviously just missing data but not applicable could be people that don't fit into any of these categories?\n",
    "    - For now I'll just throw them all out, perhaps will come back if I see fit\n"
   ]
  },
  {
   "cell_type": "code",
   "execution_count": 17,
   "metadata": {},
   "outputs": [
    {
     "data": {
      "text/html": [
       "<div>\n",
       "<style scoped>\n",
       "    .dataframe tbody tr th:only-of-type {\n",
       "        vertical-align: middle;\n",
       "    }\n",
       "\n",
       "    .dataframe tbody tr th {\n",
       "        vertical-align: top;\n",
       "    }\n",
       "\n",
       "    .dataframe thead th {\n",
       "        text-align: right;\n",
       "    }\n",
       "</style>\n",
       "<table border=\"1\" class=\"dataframe\">\n",
       "  <thead>\n",
       "    <tr style=\"text-align: right;\">\n",
       "      <th></th>\n",
       "      <th>PcrPatientRaceGroupKey</th>\n",
       "      <th>PcrKey</th>\n",
       "      <th>ePatient_14</th>\n",
       "    </tr>\n",
       "  </thead>\n",
       "  <tbody>\n",
       "    <tr>\n",
       "      <th>1</th>\n",
       "      <td>16835623</td>\n",
       "      <td>13273412</td>\n",
       "      <td>2514011</td>\n",
       "    </tr>\n",
       "    <tr>\n",
       "      <th>3</th>\n",
       "      <td>21377926</td>\n",
       "      <td>17184298</td>\n",
       "      <td>2514011</td>\n",
       "    </tr>\n",
       "    <tr>\n",
       "      <th>4</th>\n",
       "      <td>38817731</td>\n",
       "      <td>21699657</td>\n",
       "      <td>2514011</td>\n",
       "    </tr>\n",
       "    <tr>\n",
       "      <th>6</th>\n",
       "      <td>97354357</td>\n",
       "      <td>72057010</td>\n",
       "      <td>2514011</td>\n",
       "    </tr>\n",
       "    <tr>\n",
       "      <th>11</th>\n",
       "      <td>111683931</td>\n",
       "      <td>83733589</td>\n",
       "      <td>2514001</td>\n",
       "    </tr>\n",
       "  </tbody>\n",
       "</table>\n",
       "</div>"
      ],
      "text/plain": [
       "    PcrPatientRaceGroupKey    PcrKey  ePatient_14\n",
       "1                 16835623  13273412      2514011\n",
       "3                 21377926  17184298      2514011\n",
       "4                 38817731  21699657      2514011\n",
       "6                 97354357  72057010      2514011\n",
       "11               111683931  83733589      2514001"
      ]
     },
     "execution_count": 17,
     "metadata": {},
     "output_type": "execute_result"
    }
   ],
   "source": [
    "# drop not recorded and not applicable\n",
    "# pandas uses | as the symbol for \"or\"\n",
    "nan_obs = df[ (df['ePatient_14'] == 7701003) | (df['ePatient_14'] == 7701001)].index\n",
    "df.drop(nan_obs, inplace = True)\n",
    "df.head()"
   ]
  },
  {
   "cell_type": "code",
   "execution_count": 20,
   "metadata": {},
   "outputs": [
    {
     "name": "stdout",
     "output_type": "stream",
     "text": [
      "33438658\n",
      "16116630\n"
     ]
    }
   ],
   "source": [
    "print(len(df.index))\n",
    "print(49555288 - len(df.index))"
   ]
  },
  {
   "cell_type": "markdown",
   "metadata": {},
   "source": [
    "- We just threw out 16,116,630 rows\n",
    "- This should be fine\n",
    "- Now our total sample size is 33,438,658"
   ]
  },
  {
   "cell_type": "code",
   "execution_count": 21,
   "metadata": {},
   "outputs": [
    {
     "data": {
      "text/plain": [
       "2514011    0.641134\n",
       "2514005    0.232328\n",
       "2514007    0.097283\n",
       "2514003    0.015021\n",
       "2514001    0.010288\n",
       "2514009    0.003946\n",
       "Name: ePatient_14, dtype: float64"
      ]
     },
     "execution_count": 21,
     "metadata": {},
     "output_type": "execute_result"
    }
   ],
   "source": [
    "# check new proportions\n",
    "prop = df['ePatient_14'].value_counts(normalize=True)\n",
    "prop"
   ]
  },
  {
   "cell_type": "markdown",
   "metadata": {},
   "source": [
    "- 64.1% white\n",
    "- 23.2% black\n",
    "- 9.7% hispanic / latino\n",
    "- 1.5% Asian\n",
    "- 1.0% American Indian or Alaska Native\n",
    "- 0.4% Native Hawaiian or Other Pacific Islander"
   ]
  },
  {
   "cell_type": "code",
   "execution_count": 22,
   "metadata": {},
   "outputs": [
    {
     "name": "stdout",
     "output_type": "stream",
     "text": [
      "1064494\n",
      "492196\n"
     ]
    }
   ],
   "source": [
    "dup = df[df.duplicated('PcrKey',False)]\n",
    "print(len(dup))\n",
    "print(dup.PcrKey.nunique())"
   ]
  },
  {
   "cell_type": "markdown",
   "metadata": {},
   "source": [
    "- Perfect, still 492,196 that are two or more races"
   ]
  },
  {
   "cell_type": "code",
   "execution_count": 16,
   "metadata": {},
   "outputs": [
    {
     "data": {
      "text/html": [
       "<div>\n",
       "<style scoped>\n",
       "    .dataframe tbody tr th:only-of-type {\n",
       "        vertical-align: middle;\n",
       "    }\n",
       "\n",
       "    .dataframe tbody tr th {\n",
       "        vertical-align: top;\n",
       "    }\n",
       "\n",
       "    .dataframe thead th {\n",
       "        text-align: right;\n",
       "    }\n",
       "</style>\n",
       "<table border=\"1\" class=\"dataframe\">\n",
       "  <thead>\n",
       "    <tr style=\"text-align: right;\">\n",
       "      <th></th>\n",
       "      <th>PcrPatientRaceGroupKey</th>\n",
       "      <th>PcrKey</th>\n",
       "      <th>ePatient_14</th>\n",
       "    </tr>\n",
       "  </thead>\n",
       "  <tbody>\n",
       "    <tr>\n",
       "      <th>0</th>\n",
       "      <td>2088217</td>\n",
       "      <td>1472192</td>\n",
       "      <td>7701003</td>\n",
       "    </tr>\n",
       "    <tr>\n",
       "      <th>1</th>\n",
       "      <td>16835623</td>\n",
       "      <td>13273412</td>\n",
       "      <td>2514011</td>\n",
       "    </tr>\n",
       "    <tr>\n",
       "      <th>2</th>\n",
       "      <td>18418102</td>\n",
       "      <td>14548133</td>\n",
       "      <td>7701003</td>\n",
       "    </tr>\n",
       "    <tr>\n",
       "      <th>3</th>\n",
       "      <td>21377926</td>\n",
       "      <td>17184298</td>\n",
       "      <td>2514011</td>\n",
       "    </tr>\n",
       "    <tr>\n",
       "      <th>4</th>\n",
       "      <td>38817731</td>\n",
       "      <td>21699657</td>\n",
       "      <td>2514011</td>\n",
       "    </tr>\n",
       "  </tbody>\n",
       "</table>\n",
       "</div>"
      ],
      "text/plain": [
       "   PcrPatientRaceGroupKey    PcrKey  ePatient_14\n",
       "0                 2088217   1472192      7701003\n",
       "1                16835623  13273412      2514011\n",
       "2                18418102  14548133      7701003\n",
       "3                21377926  17184298      2514011\n",
       "4                38817731  21699657      2514011"
      ]
     },
     "execution_count": 16,
     "metadata": {},
     "output_type": "execute_result"
    }
   ],
   "source": [
    "df.head()"
   ]
  },
  {
   "cell_type": "markdown",
   "metadata": {},
   "source": [
    "- Now, I'll create additional columns for the races"
   ]
  },
  {
   "cell_type": "code",
   "execution_count": 25,
   "metadata": {},
   "outputs": [],
   "source": [
    "def isblack(row):\n",
    "    if row['ePatient_14'] == 2514005:\n",
    "        return 1\n",
    "    else:\n",
    "        return 0\n",
    "\n",
    "df['black'] = df.apply(lambda row: isblack(row), axis=1)"
   ]
  },
  {
   "cell_type": "markdown",
   "metadata": {},
   "source": [
    "- 6min 5sec for that to run"
   ]
  },
  {
   "cell_type": "code",
   "execution_count": 26,
   "metadata": {},
   "outputs": [
    {
     "data": {
      "text/html": [
       "<div>\n",
       "<style scoped>\n",
       "    .dataframe tbody tr th:only-of-type {\n",
       "        vertical-align: middle;\n",
       "    }\n",
       "\n",
       "    .dataframe tbody tr th {\n",
       "        vertical-align: top;\n",
       "    }\n",
       "\n",
       "    .dataframe thead th {\n",
       "        text-align: right;\n",
       "    }\n",
       "</style>\n",
       "<table border=\"1\" class=\"dataframe\">\n",
       "  <thead>\n",
       "    <tr style=\"text-align: right;\">\n",
       "      <th></th>\n",
       "      <th>PcrPatientRaceGroupKey</th>\n",
       "      <th>PcrKey</th>\n",
       "      <th>ePatient_14</th>\n",
       "      <th>black</th>\n",
       "    </tr>\n",
       "  </thead>\n",
       "  <tbody>\n",
       "    <tr>\n",
       "      <th>1</th>\n",
       "      <td>16835623</td>\n",
       "      <td>13273412</td>\n",
       "      <td>2514011</td>\n",
       "      <td>0</td>\n",
       "    </tr>\n",
       "    <tr>\n",
       "      <th>3</th>\n",
       "      <td>21377926</td>\n",
       "      <td>17184298</td>\n",
       "      <td>2514011</td>\n",
       "      <td>0</td>\n",
       "    </tr>\n",
       "    <tr>\n",
       "      <th>4</th>\n",
       "      <td>38817731</td>\n",
       "      <td>21699657</td>\n",
       "      <td>2514011</td>\n",
       "      <td>0</td>\n",
       "    </tr>\n",
       "    <tr>\n",
       "      <th>6</th>\n",
       "      <td>97354357</td>\n",
       "      <td>72057010</td>\n",
       "      <td>2514011</td>\n",
       "      <td>0</td>\n",
       "    </tr>\n",
       "    <tr>\n",
       "      <th>11</th>\n",
       "      <td>111683931</td>\n",
       "      <td>83733589</td>\n",
       "      <td>2514001</td>\n",
       "      <td>0</td>\n",
       "    </tr>\n",
       "  </tbody>\n",
       "</table>\n",
       "</div>"
      ],
      "text/plain": [
       "    PcrPatientRaceGroupKey    PcrKey  ePatient_14  black\n",
       "1                 16835623  13273412      2514011      0\n",
       "3                 21377926  17184298      2514011      0\n",
       "4                 38817731  21699657      2514011      0\n",
       "6                 97354357  72057010      2514011      0\n",
       "11               111683931  83733589      2514001      0"
      ]
     },
     "execution_count": 26,
     "metadata": {},
     "output_type": "execute_result"
    }
   ],
   "source": [
    "df.head()"
   ]
  },
  {
   "cell_type": "code",
   "execution_count": 27,
   "metadata": {},
   "outputs": [
    {
     "data": {
      "text/plain": [
       "33438658"
      ]
     },
     "execution_count": 27,
     "metadata": {},
     "output_type": "execute_result"
    }
   ],
   "source": [
    "len(df.index)"
   ]
  },
  {
   "cell_type": "markdown",
   "metadata": {},
   "source": [
    "- The index looks weird idk why it's skipping but length remains same so should be fine"
   ]
  },
  {
   "cell_type": "code",
   "execution_count": 28,
   "metadata": {},
   "outputs": [],
   "source": [
    "def iswhite(row):\n",
    "    if row['ePatient_14'] == 2514011:\n",
    "        return 1\n",
    "    else:\n",
    "        return 0\n",
    "\n",
    "df['white'] = df.apply(lambda row: iswhite(row), axis=1)"
   ]
  },
  {
   "cell_type": "markdown",
   "metadata": {},
   "source": [
    "- 7min 4sec\n",
    "- I'm gonna export and work on a fresh ipynb as I think some of the old dfs are still loaded"
   ]
  },
  {
   "cell_type": "code",
   "execution_count": 29,
   "metadata": {},
   "outputs": [
    {
     "data": {
      "text/html": [
       "<div>\n",
       "<style scoped>\n",
       "    .dataframe tbody tr th:only-of-type {\n",
       "        vertical-align: middle;\n",
       "    }\n",
       "\n",
       "    .dataframe tbody tr th {\n",
       "        vertical-align: top;\n",
       "    }\n",
       "\n",
       "    .dataframe thead th {\n",
       "        text-align: right;\n",
       "    }\n",
       "</style>\n",
       "<table border=\"1\" class=\"dataframe\">\n",
       "  <thead>\n",
       "    <tr style=\"text-align: right;\">\n",
       "      <th></th>\n",
       "      <th>PcrPatientRaceGroupKey</th>\n",
       "      <th>PcrKey</th>\n",
       "      <th>ePatient_14</th>\n",
       "      <th>black</th>\n",
       "      <th>white</th>\n",
       "    </tr>\n",
       "  </thead>\n",
       "  <tbody>\n",
       "    <tr>\n",
       "      <th>1</th>\n",
       "      <td>16835623</td>\n",
       "      <td>13273412</td>\n",
       "      <td>2514011</td>\n",
       "      <td>0</td>\n",
       "      <td>1</td>\n",
       "    </tr>\n",
       "    <tr>\n",
       "      <th>3</th>\n",
       "      <td>21377926</td>\n",
       "      <td>17184298</td>\n",
       "      <td>2514011</td>\n",
       "      <td>0</td>\n",
       "      <td>1</td>\n",
       "    </tr>\n",
       "    <tr>\n",
       "      <th>4</th>\n",
       "      <td>38817731</td>\n",
       "      <td>21699657</td>\n",
       "      <td>2514011</td>\n",
       "      <td>0</td>\n",
       "      <td>1</td>\n",
       "    </tr>\n",
       "    <tr>\n",
       "      <th>6</th>\n",
       "      <td>97354357</td>\n",
       "      <td>72057010</td>\n",
       "      <td>2514011</td>\n",
       "      <td>0</td>\n",
       "      <td>1</td>\n",
       "    </tr>\n",
       "    <tr>\n",
       "      <th>11</th>\n",
       "      <td>111683931</td>\n",
       "      <td>83733589</td>\n",
       "      <td>2514001</td>\n",
       "      <td>0</td>\n",
       "      <td>0</td>\n",
       "    </tr>\n",
       "  </tbody>\n",
       "</table>\n",
       "</div>"
      ],
      "text/plain": [
       "    PcrPatientRaceGroupKey    PcrKey  ePatient_14  black  white\n",
       "1                 16835623  13273412      2514011      0      1\n",
       "3                 21377926  17184298      2514011      0      1\n",
       "4                 38817731  21699657      2514011      0      1\n",
       "6                 97354357  72057010      2514011      0      1\n",
       "11               111683931  83733589      2514001      0      0"
      ]
     },
     "execution_count": 29,
     "metadata": {},
     "output_type": "execute_result"
    }
   ],
   "source": [
    "df.head()"
   ]
  },
  {
   "cell_type": "code",
   "execution_count": 30,
   "metadata": {},
   "outputs": [],
   "source": [
    "df.to_csv('/Users/patrickburke/Library/CloudStorage/OneDrive-EmoryUniversity/ECON496RW/raceInProgress/raceBW.csv')"
   ]
  },
  {
   "cell_type": "markdown",
   "metadata": {},
   "source": [
    "- 1min 28sec"
   ]
  }
 ],
 "metadata": {
  "kernelspec": {
   "display_name": "Python 3.9.13 ('emsData')",
   "language": "python",
   "name": "python3"
  },
  "language_info": {
   "codemirror_mode": {
    "name": "ipython",
    "version": 3
   },
   "file_extension": ".py",
   "mimetype": "text/x-python",
   "name": "python",
   "nbconvert_exporter": "python",
   "pygments_lexer": "ipython3",
   "version": "3.9.13"
  },
  "orig_nbformat": 4,
  "vscode": {
   "interpreter": {
    "hash": "e73fd14faab1d3a910992afd86c0d2e0faf6164497d557d85f7ad88fc301c927"
   }
  }
 },
 "nbformat": 4,
 "nbformat_minor": 2
}
