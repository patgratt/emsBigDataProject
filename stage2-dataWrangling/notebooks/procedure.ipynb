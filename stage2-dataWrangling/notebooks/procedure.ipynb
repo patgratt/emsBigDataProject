{
 "cells": [
  {
   "cell_type": "code",
   "execution_count": 1,
   "metadata": {},
   "outputs": [],
   "source": [
    "import pandas as pd"
   ]
  },
  {
   "cell_type": "code",
   "execution_count": 2,
   "metadata": {},
   "outputs": [
    {
     "name": "stderr",
     "output_type": "stream",
     "text": [
      "/var/folders/fm/gcl3hqzd4ws6jd6kbrxyt48c0000gn/T/ipykernel_25080/2099290561.py:1: DtypeWarning: Columns (6) have mixed types. Specify dtype option on import or set low_memory=False.\n",
      "  df = pd.read_csv('/Users/patrickburke/Library/CloudStorage/OneDrive-EmoryUniversity/ECON496RW/processedCSVs/big/factpcrprocedure_chunks/factpcrprocedure_chunk1.csv')\n"
     ]
    }
   ],
   "source": [
    "df = pd.read_csv('/Users/patrickburke/Library/CloudStorage/OneDrive-EmoryUniversity/ECON496RW/processedCSVs/big/factpcrprocedure_chunks/factpcrprocedure_chunk1.csv')"
   ]
  },
  {
   "cell_type": "code",
   "execution_count": 3,
   "metadata": {},
   "outputs": [
    {
     "data": {
      "text/html": [
       "<div>\n",
       "<style scoped>\n",
       "    .dataframe tbody tr th:only-of-type {\n",
       "        vertical-align: middle;\n",
       "    }\n",
       "\n",
       "    .dataframe tbody tr th {\n",
       "        vertical-align: top;\n",
       "    }\n",
       "\n",
       "    .dataframe thead th {\n",
       "        text-align: right;\n",
       "    }\n",
       "</style>\n",
       "<table border=\"1\" class=\"dataframe\">\n",
       "  <thead>\n",
       "    <tr style=\"text-align: right;\">\n",
       "      <th></th>\n",
       "      <th>PcrProcedureKey</th>\n",
       "      <th>PcrKey</th>\n",
       "      <th>eProcedures_03</th>\n",
       "      <th>eProcedures_05</th>\n",
       "      <th>eProcedures_06</th>\n",
       "      <th>eProcedures_08</th>\n",
       "      <th>eProcedures_10</th>\n",
       "      <th>eProcedures_02</th>\n",
       "      <th>eProcedures_01</th>\n",
       "    </tr>\n",
       "  </thead>\n",
       "  <tbody>\n",
       "    <tr>\n",
       "      <th>0</th>\n",
       "      <td>2413186</td>\n",
       "      <td>1472192</td>\n",
       "      <td>7701003</td>\n",
       "      <td>7701003</td>\n",
       "      <td>7701003</td>\n",
       "      <td>7701003</td>\n",
       "      <td>7701003</td>\n",
       "      <td>7701003</td>\n",
       "      <td>Not Recorded</td>\n",
       "    </tr>\n",
       "    <tr>\n",
       "      <th>1</th>\n",
       "      <td>25035251</td>\n",
       "      <td>13273412</td>\n",
       "      <td>7701001</td>\n",
       "      <td>7701001</td>\n",
       "      <td>7701001</td>\n",
       "      <td>7701001</td>\n",
       "      <td>7701001</td>\n",
       "      <td>7701001</td>\n",
       "      <td>Not Applicable</td>\n",
       "    </tr>\n",
       "    <tr>\n",
       "      <th>2</th>\n",
       "      <td>27647844</td>\n",
       "      <td>14548133</td>\n",
       "      <td>7701003</td>\n",
       "      <td>7701003</td>\n",
       "      <td>7701003</td>\n",
       "      <td>7701003</td>\n",
       "      <td>7701003</td>\n",
       "      <td>7701003</td>\n",
       "      <td>Not Recorded</td>\n",
       "    </tr>\n",
       "    <tr>\n",
       "      <th>3</th>\n",
       "      <td>32534897</td>\n",
       "      <td>17184298</td>\n",
       "      <td>133901003</td>\n",
       "      <td>1</td>\n",
       "      <td>9923003</td>\n",
       "      <td>7701003</td>\n",
       "      <td>9905009</td>\n",
       "      <td>9923003</td>\n",
       "      <td>Not Applicable</td>\n",
       "    </tr>\n",
       "    <tr>\n",
       "      <th>4</th>\n",
       "      <td>32534899</td>\n",
       "      <td>17184298</td>\n",
       "      <td>392230005</td>\n",
       "      <td>1</td>\n",
       "      <td>9923001</td>\n",
       "      <td>7701003</td>\n",
       "      <td>9905013</td>\n",
       "      <td>9923001</td>\n",
       "      <td>Not Applicable</td>\n",
       "    </tr>\n",
       "  </tbody>\n",
       "</table>\n",
       "</div>"
      ],
      "text/plain": [
       "   PcrProcedureKey    PcrKey eProcedures_03  eProcedures_05  eProcedures_06  \\\n",
       "0          2413186   1472192        7701003         7701003         7701003   \n",
       "1         25035251  13273412        7701001         7701001         7701001   \n",
       "2         27647844  14548133        7701003         7701003         7701003   \n",
       "3         32534897  17184298      133901003               1         9923003   \n",
       "4         32534899  17184298      392230005               1         9923001   \n",
       "\n",
       "   eProcedures_08 eProcedures_10  eProcedures_02  eProcedures_01  \n",
       "0         7701003        7701003         7701003    Not Recorded  \n",
       "1         7701001        7701001         7701001  Not Applicable  \n",
       "2         7701003        7701003         7701003    Not Recorded  \n",
       "3         7701003        9905009         9923003  Not Applicable  \n",
       "4         7701003        9905013         9923001  Not Applicable  "
      ]
     },
     "execution_count": 3,
     "metadata": {},
     "output_type": "execute_result"
    }
   ],
   "source": [
    "df.head()"
   ]
  }
 ],
 "metadata": {
  "kernelspec": {
   "display_name": "Python 3.9.13 ('emsData')",
   "language": "python",
   "name": "python3"
  },
  "language_info": {
   "codemirror_mode": {
    "name": "ipython",
    "version": 3
   },
   "file_extension": ".py",
   "mimetype": "text/x-python",
   "name": "python",
   "nbconvert_exporter": "python",
   "pygments_lexer": "ipython3",
   "version": "3.9.13"
  },
  "orig_nbformat": 4,
  "vscode": {
   "interpreter": {
    "hash": "e73fd14faab1d3a910992afd86c0d2e0faf6164497d557d85f7ad88fc301c927"
   }
  }
 },
 "nbformat": 4,
 "nbformat_minor": 2
}
