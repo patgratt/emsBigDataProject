{
 "cells": [
  {
   "cell_type": "code",
   "execution_count": 1,
   "metadata": {},
   "outputs": [],
   "source": [
    "import os\n",
    "import pandas as pd"
   ]
  },
  {
   "cell_type": "code",
   "execution_count": null,
   "metadata": {},
   "outputs": [],
   "source": [
    "# macbook\n",
    "folder = '/Users/patrickburke/Library/CloudStorage/OneDrive-EmoryUniversity/ECON496RW/processedCSVs/big/pub_pcrevents_chunks/'"
   ]
  },
  {
   "cell_type": "code",
   "execution_count": 16,
   "metadata": {},
   "outputs": [
    {
     "data": {
      "text/plain": [
       "['/Users/patrickburke/Library/CloudStorage/OneDrive-EmoryUniversity/ECON496RW/processedCSVs/big/pub_pcrevents_chunks/pub_pcrevents_chunk6.csv',\n",
       " '/Users/patrickburke/Library/CloudStorage/OneDrive-EmoryUniversity/ECON496RW/processedCSVs/big/pub_pcrevents_chunks/pub_pcrevents_chunk7.csv']"
      ]
     },
     "execution_count": 16,
     "metadata": {},
     "output_type": "execute_result"
    }
   ],
   "source": [
    "filepaths = [folder + filename for filename in os.listdir(folder)][0:2]\n",
    "filepaths"
   ]
  },
  {
   "cell_type": "code",
   "execution_count": 17,
   "metadata": {},
   "outputs": [],
   "source": [
    "def importGender(filepath):\n",
    "    pd.read_csv(filepath, usecols = [\"PcrKey\", \"ePatient_13\"])"
   ]
  },
  {
   "cell_type": "code",
   "execution_count": 18,
   "metadata": {},
   "outputs": [],
   "source": [
    "df = pd.concat(map(importGender, filepaths))"
   ]
  },
  {
   "cell_type": "code",
   "execution_count": null,
   "metadata": {},
   "outputs": [],
   "source": []
  }
 ],
 "metadata": {
  "kernelspec": {
   "display_name": "Python 3.9.14 64-bit",
   "language": "python",
   "name": "python3"
  },
  "language_info": {
   "codemirror_mode": {
    "name": "ipython",
    "version": 3
   },
   "file_extension": ".py",
   "mimetype": "text/x-python",
   "name": "python",
   "nbconvert_exporter": "python",
   "pygments_lexer": "ipython3",
   "version": "3.9.14"
  },
  "orig_nbformat": 4,
  "vscode": {
   "interpreter": {
    "hash": "01c1cefed0550c79a29fba90c54ae81dac69522dafa1a36afb5a68ec6c0cf5be"
   }
  }
 },
 "nbformat": 4,
 "nbformat_minor": 2
}
