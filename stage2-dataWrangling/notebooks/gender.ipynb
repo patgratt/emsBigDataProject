{
 "cells": [
  {
   "cell_type": "code",
   "execution_count": 49,
   "metadata": {},
   "outputs": [],
   "source": [
    "import os\n",
    "import pandas as pd\n",
    "import numpy as np"
   ]
  },
  {
   "cell_type": "code",
   "execution_count": 50,
   "metadata": {},
   "outputs": [],
   "source": [
    "# macbook\n",
    "# folder = '/Users/patrickburke/Library/CloudStorage/OneDrive-EmoryUniversity/ECON496RW/processedCSVs/big/pub_pcrevents_chunks/'\n",
    "\n",
    "# costaPC\n",
    "folder = r\"C:\\Users\\pat\\OneDrive - Emory University\\ECON496RW\\processedCSVs\\big\\pub_pcrevents_chunks\""
   ]
  },
  {
   "cell_type": "code",
   "execution_count": 51,
   "metadata": {},
   "outputs": [
    {
     "data": {
      "text/plain": [
       "['C:\\\\Users\\\\pat\\\\OneDrive - Emory University\\\\ECON496RW\\\\processedCSVs\\\\big\\\\pub_pcrevents_chunks\\\\pub_pcrevents_chunk1.csv',\n",
       " 'C:\\\\Users\\\\pat\\\\OneDrive - Emory University\\\\ECON496RW\\\\processedCSVs\\\\big\\\\pub_pcrevents_chunks\\\\pub_pcrevents_chunk10.csv',\n",
       " 'C:\\\\Users\\\\pat\\\\OneDrive - Emory University\\\\ECON496RW\\\\processedCSVs\\\\big\\\\pub_pcrevents_chunks\\\\pub_pcrevents_chunk2.csv',\n",
       " 'C:\\\\Users\\\\pat\\\\OneDrive - Emory University\\\\ECON496RW\\\\processedCSVs\\\\big\\\\pub_pcrevents_chunks\\\\pub_pcrevents_chunk3.csv',\n",
       " 'C:\\\\Users\\\\pat\\\\OneDrive - Emory University\\\\ECON496RW\\\\processedCSVs\\\\big\\\\pub_pcrevents_chunks\\\\pub_pcrevents_chunk4.csv',\n",
       " 'C:\\\\Users\\\\pat\\\\OneDrive - Emory University\\\\ECON496RW\\\\processedCSVs\\\\big\\\\pub_pcrevents_chunks\\\\pub_pcrevents_chunk5.csv',\n",
       " 'C:\\\\Users\\\\pat\\\\OneDrive - Emory University\\\\ECON496RW\\\\processedCSVs\\\\big\\\\pub_pcrevents_chunks\\\\pub_pcrevents_chunk6.csv',\n",
       " 'C:\\\\Users\\\\pat\\\\OneDrive - Emory University\\\\ECON496RW\\\\processedCSVs\\\\big\\\\pub_pcrevents_chunks\\\\pub_pcrevents_chunk7.csv',\n",
       " 'C:\\\\Users\\\\pat\\\\OneDrive - Emory University\\\\ECON496RW\\\\processedCSVs\\\\big\\\\pub_pcrevents_chunks\\\\pub_pcrevents_chunk8.csv',\n",
       " 'C:\\\\Users\\\\pat\\\\OneDrive - Emory University\\\\ECON496RW\\\\processedCSVs\\\\big\\\\pub_pcrevents_chunks\\\\pub_pcrevents_chunk9.csv']"
      ]
     },
     "execution_count": 51,
     "metadata": {},
     "output_type": "execute_result"
    }
   ],
   "source": [
    "filepaths = [os.path.join(folder, filename) for filename in os.listdir(folder)]\n",
    "filepaths"
   ]
  },
  {
   "cell_type": "code",
   "execution_count": 52,
   "metadata": {},
   "outputs": [],
   "source": [
    "def importGender(filepath):\n",
    "    return pd.read_csv(filepath, usecols=[\"PcrKey\", \"ePatient_13\"], dtype=np.int32)"
   ]
  },
  {
   "cell_type": "code",
   "execution_count": 53,
   "metadata": {},
   "outputs": [],
   "source": [
    "df = pd.concat(map(importGender, filepaths))"
   ]
  },
  {
   "cell_type": "code",
   "execution_count": 54,
   "metadata": {},
   "outputs": [
    {
     "data": {
      "text/html": [
       "<div>\n",
       "<style scoped>\n",
       "    .dataframe tbody tr th:only-of-type {\n",
       "        vertical-align: middle;\n",
       "    }\n",
       "\n",
       "    .dataframe tbody tr th {\n",
       "        vertical-align: top;\n",
       "    }\n",
       "\n",
       "    .dataframe thead th {\n",
       "        text-align: right;\n",
       "    }\n",
       "</style>\n",
       "<table border=\"1\" class=\"dataframe\">\n",
       "  <thead>\n",
       "    <tr style=\"text-align: right;\">\n",
       "      <th></th>\n",
       "      <th>PcrKey</th>\n",
       "      <th>ePatient_13</th>\n",
       "    </tr>\n",
       "  </thead>\n",
       "  <tbody>\n",
       "    <tr>\n",
       "      <th>0</th>\n",
       "      <td>1472192</td>\n",
       "      <td>7701003</td>\n",
       "    </tr>\n",
       "    <tr>\n",
       "      <th>1</th>\n",
       "      <td>13273412</td>\n",
       "      <td>9906003</td>\n",
       "    </tr>\n",
       "    <tr>\n",
       "      <th>2</th>\n",
       "      <td>14548133</td>\n",
       "      <td>9906001</td>\n",
       "    </tr>\n",
       "    <tr>\n",
       "      <th>3</th>\n",
       "      <td>17184298</td>\n",
       "      <td>9906003</td>\n",
       "    </tr>\n",
       "    <tr>\n",
       "      <th>4</th>\n",
       "      <td>21699657</td>\n",
       "      <td>9906003</td>\n",
       "    </tr>\n",
       "    <tr>\n",
       "      <th>...</th>\n",
       "      <td>...</td>\n",
       "      <td>...</td>\n",
       "    </tr>\n",
       "    <tr>\n",
       "      <th>4999995</th>\n",
       "      <td>168637681</td>\n",
       "      <td>7701001</td>\n",
       "    </tr>\n",
       "    <tr>\n",
       "      <th>4999996</th>\n",
       "      <td>168637682</td>\n",
       "      <td>9906003</td>\n",
       "    </tr>\n",
       "    <tr>\n",
       "      <th>4999997</th>\n",
       "      <td>168637683</td>\n",
       "      <td>9906003</td>\n",
       "    </tr>\n",
       "    <tr>\n",
       "      <th>4999998</th>\n",
       "      <td>168637684</td>\n",
       "      <td>9906001</td>\n",
       "    </tr>\n",
       "    <tr>\n",
       "      <th>4999999</th>\n",
       "      <td>168637685</td>\n",
       "      <td>9906001</td>\n",
       "    </tr>\n",
       "  </tbody>\n",
       "</table>\n",
       "<p>48982990 rows × 2 columns</p>\n",
       "</div>"
      ],
      "text/plain": [
       "            PcrKey  ePatient_13\n",
       "0          1472192      7701003\n",
       "1         13273412      9906003\n",
       "2         14548133      9906001\n",
       "3         17184298      9906003\n",
       "4         21699657      9906003\n",
       "...            ...          ...\n",
       "4999995  168637681      7701001\n",
       "4999996  168637682      9906003\n",
       "4999997  168637683      9906003\n",
       "4999998  168637684      9906001\n",
       "4999999  168637685      9906001\n",
       "\n",
       "[48982990 rows x 2 columns]"
      ]
     },
     "execution_count": 54,
     "metadata": {},
     "output_type": "execute_result"
    }
   ],
   "source": [
    "df"
   ]
  },
  {
   "cell_type": "code",
   "execution_count": 55,
   "metadata": {},
   "outputs": [],
   "source": [
    "df = df.rename(columns= {'ePatient_13' : 'Gender'})\n",
    "# female = 9906001, change to 1\n",
    "df = df.replace([9906001], 1)\n",
    "# male = 9906003, change to 0\n",
    "df = df.replace([9906003], 0)"
   ]
  },
  {
   "cell_type": "code",
   "execution_count": 63,
   "metadata": {},
   "outputs": [
    {
     "data": {
      "text/html": [
       "<div>\n",
       "<style scoped>\n",
       "    .dataframe tbody tr th:only-of-type {\n",
       "        vertical-align: middle;\n",
       "    }\n",
       "\n",
       "    .dataframe tbody tr th {\n",
       "        vertical-align: top;\n",
       "    }\n",
       "\n",
       "    .dataframe thead th {\n",
       "        text-align: right;\n",
       "    }\n",
       "</style>\n",
       "<table border=\"1\" class=\"dataframe\">\n",
       "  <thead>\n",
       "    <tr style=\"text-align: right;\">\n",
       "      <th></th>\n",
       "      <th>PcrKey</th>\n",
       "      <th>Gender</th>\n",
       "    </tr>\n",
       "  </thead>\n",
       "  <tbody>\n",
       "    <tr>\n",
       "      <th>0</th>\n",
       "      <td>1472192</td>\n",
       "      <td>7701003</td>\n",
       "    </tr>\n",
       "    <tr>\n",
       "      <th>1</th>\n",
       "      <td>13273412</td>\n",
       "      <td>0</td>\n",
       "    </tr>\n",
       "    <tr>\n",
       "      <th>2</th>\n",
       "      <td>14548133</td>\n",
       "      <td>1</td>\n",
       "    </tr>\n",
       "    <tr>\n",
       "      <th>3</th>\n",
       "      <td>17184298</td>\n",
       "      <td>0</td>\n",
       "    </tr>\n",
       "    <tr>\n",
       "      <th>4</th>\n",
       "      <td>21699657</td>\n",
       "      <td>0</td>\n",
       "    </tr>\n",
       "  </tbody>\n",
       "</table>\n",
       "</div>"
      ],
      "text/plain": [
       "     PcrKey   Gender\n",
       "0   1472192  7701003\n",
       "1  13273412        0\n",
       "2  14548133        1\n",
       "3  17184298        0\n",
       "4  21699657        0"
      ]
     },
     "execution_count": 63,
     "metadata": {},
     "output_type": "execute_result"
    }
   ],
   "source": [
    "df.head()"
   ]
  },
  {
   "cell_type": "code",
   "execution_count": 65,
   "metadata": {},
   "outputs": [],
   "source": [
    "# drop missing data rows\n",
    "df = df[ (df['Gender'] == 0) | (df['Gender'] == 1) ]"
   ]
  },
  {
   "cell_type": "code",
   "execution_count": 67,
   "metadata": {},
   "outputs": [
    {
     "data": {
      "text/html": [
       "<div>\n",
       "<style scoped>\n",
       "    .dataframe tbody tr th:only-of-type {\n",
       "        vertical-align: middle;\n",
       "    }\n",
       "\n",
       "    .dataframe tbody tr th {\n",
       "        vertical-align: top;\n",
       "    }\n",
       "\n",
       "    .dataframe thead th {\n",
       "        text-align: right;\n",
       "    }\n",
       "</style>\n",
       "<table border=\"1\" class=\"dataframe\">\n",
       "  <thead>\n",
       "    <tr style=\"text-align: right;\">\n",
       "      <th></th>\n",
       "      <th>PcrKey</th>\n",
       "      <th>Gender</th>\n",
       "    </tr>\n",
       "  </thead>\n",
       "  <tbody>\n",
       "    <tr>\n",
       "      <th>1</th>\n",
       "      <td>13273412</td>\n",
       "      <td>0</td>\n",
       "    </tr>\n",
       "    <tr>\n",
       "      <th>2</th>\n",
       "      <td>14548133</td>\n",
       "      <td>1</td>\n",
       "    </tr>\n",
       "    <tr>\n",
       "      <th>3</th>\n",
       "      <td>17184298</td>\n",
       "      <td>0</td>\n",
       "    </tr>\n",
       "    <tr>\n",
       "      <th>4</th>\n",
       "      <td>21699657</td>\n",
       "      <td>0</td>\n",
       "    </tr>\n",
       "    <tr>\n",
       "      <th>5</th>\n",
       "      <td>21719864</td>\n",
       "      <td>1</td>\n",
       "    </tr>\n",
       "    <tr>\n",
       "      <th>...</th>\n",
       "      <td>...</td>\n",
       "      <td>...</td>\n",
       "    </tr>\n",
       "    <tr>\n",
       "      <th>4999994</th>\n",
       "      <td>168637680</td>\n",
       "      <td>1</td>\n",
       "    </tr>\n",
       "    <tr>\n",
       "      <th>4999996</th>\n",
       "      <td>168637682</td>\n",
       "      <td>0</td>\n",
       "    </tr>\n",
       "    <tr>\n",
       "      <th>4999997</th>\n",
       "      <td>168637683</td>\n",
       "      <td>0</td>\n",
       "    </tr>\n",
       "    <tr>\n",
       "      <th>4999998</th>\n",
       "      <td>168637684</td>\n",
       "      <td>1</td>\n",
       "    </tr>\n",
       "    <tr>\n",
       "      <th>4999999</th>\n",
       "      <td>168637685</td>\n",
       "      <td>1</td>\n",
       "    </tr>\n",
       "  </tbody>\n",
       "</table>\n",
       "<p>41748496 rows × 2 columns</p>\n",
       "</div>"
      ],
      "text/plain": [
       "            PcrKey  Gender\n",
       "1         13273412       0\n",
       "2         14548133       1\n",
       "3         17184298       0\n",
       "4         21699657       0\n",
       "5         21719864       1\n",
       "...            ...     ...\n",
       "4999994  168637680       1\n",
       "4999996  168637682       0\n",
       "4999997  168637683       0\n",
       "4999998  168637684       1\n",
       "4999999  168637685       1\n",
       "\n",
       "[41748496 rows x 2 columns]"
      ]
     },
     "execution_count": 67,
     "metadata": {},
     "output_type": "execute_result"
    }
   ],
   "source": [
    "df"
   ]
  },
  {
   "cell_type": "code",
   "execution_count": 76,
   "metadata": {},
   "outputs": [],
   "source": [
    "# connect to sql db\n",
    "from sqlalchemy import create_engine\n",
    "db = create_engine(r\"sqlite:///C:\\Users\\pat\\OneDrive - Emory University\\ECON496RW\\emsData.db\")"
   ]
  },
  {
   "cell_type": "code",
   "execution_count": 77,
   "metadata": {},
   "outputs": [
    {
     "data": {
      "text/plain": [
       "<sqlalchemy.engine.cursor.LegacyCursorResult at 0x21cce11c880>"
      ]
     },
     "execution_count": 77,
     "metadata": {},
     "output_type": "execute_result"
    }
   ],
   "source": [
    "# create new column\n",
    "add_col = 'ALTER TABLE socioeconomic ADD gender INTEGER;'\n",
    "db.execute(add_col)"
   ]
  },
  {
   "cell_type": "code",
   "execution_count": 80,
   "metadata": {},
   "outputs": [
    {
     "data": {
      "text/plain": [
       "<sqlalchemy.engine.cursor.LegacyCursorResult at 0x21cce179640>"
      ]
     },
     "execution_count": 80,
     "metadata": {},
     "output_type": "execute_result"
    }
   ],
   "source": [
    "# we'll just export to new table for now then do the join inside sqlite\n",
    "#new_table = 'CREATE TABLE genderTable (PcrKey INT PRIMARY KEY, gender INT);'\n",
    "#db.execute(new_table)"
   ]
  },
  {
   "cell_type": "code",
   "execution_count": 82,
   "metadata": {},
   "outputs": [
    {
     "data": {
      "text/plain": [
       "41748496"
      ]
     },
     "execution_count": 82,
     "metadata": {},
     "output_type": "execute_result"
    }
   ],
   "source": [
    "df.to_sql('genderTable', con=db, index=False)"
   ]
  },
  {
   "cell_type": "markdown",
   "metadata": {},
   "source": [
    "Join Query:\n",
    "\n",
    "UPDATE socioeconomic SET gender = (SELECT Gender FROM genderTable WHERE socioeconomic.PcrKey = genderTable.PcrKey);"
   ]
  }
 ],
 "metadata": {
  "kernelspec": {
   "display_name": "Python 3.9.13 ('base')",
   "language": "python",
   "name": "python3"
  },
  "language_info": {
   "codemirror_mode": {
    "name": "ipython",
    "version": 3
   },
   "file_extension": ".py",
   "mimetype": "text/x-python",
   "name": "python",
   "nbconvert_exporter": "python",
   "pygments_lexer": "ipython3",
   "version": "3.9.13"
  },
  "orig_nbformat": 4,
  "vscode": {
   "interpreter": {
    "hash": "6a650845330c7abb7c7efa9e782ebb6bfe6d2b8cbc5e4c62c3c8ee87c2f2c866"
   }
  }
 },
 "nbformat": 4,
 "nbformat_minor": 2
}
