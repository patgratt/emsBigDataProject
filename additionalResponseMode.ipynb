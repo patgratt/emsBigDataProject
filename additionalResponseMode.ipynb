{
 "cells": [
  {
   "cell_type": "code",
   "execution_count": 1,
   "metadata": {},
   "outputs": [],
   "source": [
    "import pandas as pd"
   ]
  },
  {
   "cell_type": "code",
   "execution_count": 2,
   "metadata": {},
   "outputs": [],
   "source": [
    "df = pd.read_csv(\"/Users/patrickburke/Library/CloudStorage/OneDrive-EmoryUniversity/ECON496RW/cleaned_small/factpcradditionalresponsemode.csv\")"
   ]
  },
  {
   "cell_type": "code",
   "execution_count": 3,
   "metadata": {},
   "outputs": [
    {
     "data": {
      "text/html": [
       "<div>\n",
       "<style scoped>\n",
       "    .dataframe tbody tr th:only-of-type {\n",
       "        vertical-align: middle;\n",
       "    }\n",
       "\n",
       "    .dataframe tbody tr th {\n",
       "        vertical-align: top;\n",
       "    }\n",
       "\n",
       "    .dataframe thead th {\n",
       "        text-align: right;\n",
       "    }\n",
       "</style>\n",
       "<table border=\"1\" class=\"dataframe\">\n",
       "  <thead>\n",
       "    <tr style=\"text-align: right;\">\n",
       "      <th></th>\n",
       "      <th>PcrKey</th>\n",
       "      <th>eResponse_24</th>\n",
       "    </tr>\n",
       "  </thead>\n",
       "  <tbody>\n",
       "    <tr>\n",
       "      <th>0</th>\n",
       "      <td>1472192</td>\n",
       "      <td>7701003</td>\n",
       "    </tr>\n",
       "    <tr>\n",
       "      <th>1</th>\n",
       "      <td>13273412</td>\n",
       "      <td>2224019</td>\n",
       "    </tr>\n",
       "    <tr>\n",
       "      <th>2</th>\n",
       "      <td>14548133</td>\n",
       "      <td>2224015</td>\n",
       "    </tr>\n",
       "    <tr>\n",
       "      <th>3</th>\n",
       "      <td>17184298</td>\n",
       "      <td>2224015</td>\n",
       "    </tr>\n",
       "    <tr>\n",
       "      <th>4</th>\n",
       "      <td>21699657</td>\n",
       "      <td>2224019</td>\n",
       "    </tr>\n",
       "    <tr>\n",
       "      <th>5</th>\n",
       "      <td>21719864</td>\n",
       "      <td>7701003</td>\n",
       "    </tr>\n",
       "    <tr>\n",
       "      <th>6</th>\n",
       "      <td>72057010</td>\n",
       "      <td>2224019</td>\n",
       "    </tr>\n",
       "    <tr>\n",
       "      <th>7</th>\n",
       "      <td>73335292</td>\n",
       "      <td>2224015</td>\n",
       "    </tr>\n",
       "    <tr>\n",
       "      <th>8</th>\n",
       "      <td>79846935</td>\n",
       "      <td>2224019</td>\n",
       "    </tr>\n",
       "    <tr>\n",
       "      <th>9</th>\n",
       "      <td>81481800</td>\n",
       "      <td>7701003</td>\n",
       "    </tr>\n",
       "    <tr>\n",
       "      <th>10</th>\n",
       "      <td>81954292</td>\n",
       "      <td>7701003</td>\n",
       "    </tr>\n",
       "    <tr>\n",
       "      <th>11</th>\n",
       "      <td>83733589</td>\n",
       "      <td>2224015</td>\n",
       "    </tr>\n",
       "    <tr>\n",
       "      <th>12</th>\n",
       "      <td>88178354</td>\n",
       "      <td>2224019</td>\n",
       "    </tr>\n",
       "    <tr>\n",
       "      <th>13</th>\n",
       "      <td>97455081</td>\n",
       "      <td>2224019</td>\n",
       "    </tr>\n",
       "    <tr>\n",
       "      <th>14</th>\n",
       "      <td>102488422</td>\n",
       "      <td>2224015</td>\n",
       "    </tr>\n",
       "    <tr>\n",
       "      <th>15</th>\n",
       "      <td>107295362</td>\n",
       "      <td>2224015</td>\n",
       "    </tr>\n",
       "    <tr>\n",
       "      <th>16</th>\n",
       "      <td>110454483</td>\n",
       "      <td>7701003</td>\n",
       "    </tr>\n",
       "    <tr>\n",
       "      <th>17</th>\n",
       "      <td>113861204</td>\n",
       "      <td>2224015</td>\n",
       "    </tr>\n",
       "    <tr>\n",
       "      <th>18</th>\n",
       "      <td>116400273</td>\n",
       "      <td>2224015</td>\n",
       "    </tr>\n",
       "    <tr>\n",
       "      <th>19</th>\n",
       "      <td>118123742</td>\n",
       "      <td>2224015</td>\n",
       "    </tr>\n",
       "  </tbody>\n",
       "</table>\n",
       "</div>"
      ],
      "text/plain": [
       "       PcrKey  eResponse_24\n",
       "0     1472192       7701003\n",
       "1    13273412       2224019\n",
       "2    14548133       2224015\n",
       "3    17184298       2224015\n",
       "4    21699657       2224019\n",
       "5    21719864       7701003\n",
       "6    72057010       2224019\n",
       "7    73335292       2224015\n",
       "8    79846935       2224019\n",
       "9    81481800       7701003\n",
       "10   81954292       7701003\n",
       "11   83733589       2224015\n",
       "12   88178354       2224019\n",
       "13   97455081       2224019\n",
       "14  102488422       2224015\n",
       "15  107295362       2224015\n",
       "16  110454483       7701003\n",
       "17  113861204       2224015\n",
       "18  116400273       2224015\n",
       "19  118123742       2224015"
      ]
     },
     "execution_count": 3,
     "metadata": {},
     "output_type": "execute_result"
    }
   ],
   "source": [
    "df.head(20)"
   ]
  },
  {
   "cell_type": "code",
   "execution_count": 6,
   "metadata": {},
   "outputs": [
    {
     "data": {
      "text/plain": [
       "60716873"
      ]
     },
     "execution_count": 6,
     "metadata": {},
     "output_type": "execute_result"
    }
   ],
   "source": [
    "len(df.index) #bruhhh 60,716,873 what the hell"
   ]
  },
  {
   "cell_type": "code",
   "execution_count": 7,
   "metadata": {},
   "outputs": [
    {
     "data": {
      "text/plain": [
       "0           False\n",
       "1           False\n",
       "2           False\n",
       "3           False\n",
       "4           False\n",
       "            ...  \n",
       "60716868    False\n",
       "60716869    False\n",
       "60716870    False\n",
       "60716871    False\n",
       "60716872    False\n",
       "Length: 60716873, dtype: bool"
      ]
     },
     "execution_count": 7,
     "metadata": {},
     "output_type": "execute_result"
    }
   ],
   "source": [
    "# check for duplicates\n",
    "dup_check = df.duplicated(subset=\"PcrKey\",keep='first')\n",
    "dup_check"
   ]
  },
  {
   "cell_type": "code",
   "execution_count": 8,
   "metadata": {},
   "outputs": [
    {
     "name": "stdout",
     "output_type": "stream",
     "text": [
      "11733883\n"
     ]
    }
   ],
   "source": [
    "print(dup_check.value_counts()[True])"
   ]
  },
  {
   "cell_type": "code",
   "execution_count": 9,
   "metadata": {},
   "outputs": [],
   "source": [
    "dup_check = df.duplicated(subset=\"PcrKey\",keep=False)\n",
    "dup_df = df[dup_check]"
   ]
  },
  {
   "cell_type": "code",
   "execution_count": 12,
   "metadata": {},
   "outputs": [
    {
     "data": {
      "text/html": [
       "<div>\n",
       "<style scoped>\n",
       "    .dataframe tbody tr th:only-of-type {\n",
       "        vertical-align: middle;\n",
       "    }\n",
       "\n",
       "    .dataframe tbody tr th {\n",
       "        vertical-align: top;\n",
       "    }\n",
       "\n",
       "    .dataframe thead th {\n",
       "        text-align: right;\n",
       "    }\n",
       "</style>\n",
       "<table border=\"1\" class=\"dataframe\">\n",
       "  <thead>\n",
       "    <tr style=\"text-align: right;\">\n",
       "      <th></th>\n",
       "      <th>PcrKey</th>\n",
       "      <th>eResponse_24</th>\n",
       "    </tr>\n",
       "  </thead>\n",
       "  <tbody>\n",
       "    <tr>\n",
       "      <th>20</th>\n",
       "      <td>118150307</td>\n",
       "      <td>2224003</td>\n",
       "    </tr>\n",
       "    <tr>\n",
       "      <th>21</th>\n",
       "      <td>118150307</td>\n",
       "      <td>2224009</td>\n",
       "    </tr>\n",
       "    <tr>\n",
       "      <th>22</th>\n",
       "      <td>118150307</td>\n",
       "      <td>2224013</td>\n",
       "    </tr>\n",
       "    <tr>\n",
       "      <th>23</th>\n",
       "      <td>118150307</td>\n",
       "      <td>2224005</td>\n",
       "    </tr>\n",
       "    <tr>\n",
       "      <th>24</th>\n",
       "      <td>118150307</td>\n",
       "      <td>2224015</td>\n",
       "    </tr>\n",
       "  </tbody>\n",
       "</table>\n",
       "</div>"
      ],
      "text/plain": [
       "       PcrKey  eResponse_24\n",
       "20  118150307       2224003\n",
       "21  118150307       2224009\n",
       "22  118150307       2224013\n",
       "23  118150307       2224005\n",
       "24  118150307       2224015"
      ]
     },
     "execution_count": 12,
     "metadata": {},
     "output_type": "execute_result"
    }
   ],
   "source": [
    "dup_df.head()"
   ]
  },
  {
   "cell_type": "code",
   "execution_count": 13,
   "metadata": {},
   "outputs": [
    {
     "data": {
      "text/html": [
       "<div>\n",
       "<style scoped>\n",
       "    .dataframe tbody tr th:only-of-type {\n",
       "        vertical-align: middle;\n",
       "    }\n",
       "\n",
       "    .dataframe tbody tr th {\n",
       "        vertical-align: top;\n",
       "    }\n",
       "\n",
       "    .dataframe thead th {\n",
       "        text-align: right;\n",
       "    }\n",
       "</style>\n",
       "<table border=\"1\" class=\"dataframe\">\n",
       "  <thead>\n",
       "    <tr style=\"text-align: right;\">\n",
       "      <th></th>\n",
       "      <th>PcrKey</th>\n",
       "      <th>eResponse_24</th>\n",
       "    </tr>\n",
       "  </thead>\n",
       "  <tbody>\n",
       "    <tr>\n",
       "      <th>20</th>\n",
       "      <td>118150307</td>\n",
       "      <td>2224003</td>\n",
       "    </tr>\n",
       "    <tr>\n",
       "      <th>21</th>\n",
       "      <td>118150307</td>\n",
       "      <td>2224009</td>\n",
       "    </tr>\n",
       "    <tr>\n",
       "      <th>22</th>\n",
       "      <td>118150307</td>\n",
       "      <td>2224013</td>\n",
       "    </tr>\n",
       "    <tr>\n",
       "      <th>23</th>\n",
       "      <td>118150307</td>\n",
       "      <td>2224005</td>\n",
       "    </tr>\n",
       "    <tr>\n",
       "      <th>24</th>\n",
       "      <td>118150307</td>\n",
       "      <td>2224015</td>\n",
       "    </tr>\n",
       "  </tbody>\n",
       "</table>\n",
       "</div>"
      ],
      "text/plain": [
       "       PcrKey  eResponse_24\n",
       "20  118150307       2224003\n",
       "21  118150307       2224009\n",
       "22  118150307       2224013\n",
       "23  118150307       2224005\n",
       "24  118150307       2224015"
      ]
     },
     "execution_count": 13,
     "metadata": {},
     "output_type": "execute_result"
    }
   ],
   "source": [
    "dup_df.loc[dup_df['PcrKey'] == 118150307]"
   ]
  },
  {
   "cell_type": "markdown",
   "metadata": {},
   "source": [
    "- 2224001 - Intersection Navigation-Against Normal Light Patterns\n",
    "- 2224003 - Intersection Navigation-With Automated Light Changing Technology \n",
    "- 2224005 - Intersection Navigation-With Normal Light Patterns\n",
    "- 2224007 - Scheduled\n",
    "- 2224009 - Speed-Enhanced per Local Policy\n",
    "- 2224011 - Speed-Normal Traffic\n",
    "- 2224013 - Unscheduled\n",
    "- 2224015 - Lights and Sirens\n",
    "- 2224017 - Lights and No Sirens\n",
    "- 2224019 - No Lights or Sirens\n",
    "- 2224021 - Initial No Lights or Sirens, Upgraded to Lights and Sirens\n",
    "- 2224023 - Initial Lights and Sirens, Downgraded to No Lights or Sirens"
   ]
  },
  {
   "cell_type": "markdown",
   "metadata": {},
   "source": [
    "- Intersection Navigation-With Automated Light Changing Technology, Speed-Enhanced per Local Policy, Unscheduled, Intersection Navigation-With Normal Light Patterns, Lights and Sirens\n",
    "- Only conflict here is multiple types of intersection navigation but thats actually very possible, duplicates OK"
   ]
  },
  {
   "cell_type": "markdown",
   "metadata": {},
   "source": []
  }
 ],
 "metadata": {
  "kernelspec": {
   "display_name": "Python 3.9.13 ('emsData')",
   "language": "python",
   "name": "python3"
  },
  "language_info": {
   "codemirror_mode": {
    "name": "ipython",
    "version": 3
   },
   "file_extension": ".py",
   "mimetype": "text/x-python",
   "name": "python",
   "nbconvert_exporter": "python",
   "pygments_lexer": "ipython3",
   "version": "3.9.13"
  },
  "orig_nbformat": 4,
  "vscode": {
   "interpreter": {
    "hash": "e73fd14faab1d3a910992afd86c0d2e0faf6164497d557d85f7ad88fc301c927"
   }
  }
 },
 "nbformat": 4,
 "nbformat_minor": 2
}
